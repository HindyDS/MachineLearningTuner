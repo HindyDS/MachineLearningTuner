{
 "cells": [
  {
   "cell_type": "code",
   "execution_count": 1,
   "id": "710e7928",
   "metadata": {},
   "outputs": [],
   "source": [
    "# Import Dependencies\n",
    "import pandas as pd\n",
    "import numpy as np\n",
    "\n",
    "from sklearn.model_selection import cross_val_score\n",
    "from sklearn.model_selection import train_test_split\n",
    "from sklearn.preprocessing import StandardScaler\n",
    "\n",
    "from xgboost import XGBClassifier\n",
    "from xgboost import XGBRegressor\n",
    "\n",
    "import matplotlib.pyplot as plt"
   ]
  },
  {
   "cell_type": "code",
   "execution_count": 3,
   "id": "415bfb67",
   "metadata": {},
   "outputs": [],
   "source": [
    "df = pd.read_csv(\"fish.csv\")"
   ]
  },
  {
   "cell_type": "code",
   "execution_count": 9,
   "id": "133ba8e1",
   "metadata": {},
   "outputs": [],
   "source": [
    "# Label Encoding\n",
    "coding = {k:v for k, v in zip(df[' c'].unique(), range(df['Species'].nunique()))}\n",
    "df['Species'] = df.Species.replace(coding)"
   ]
  },
  {
   "cell_type": "code",
   "execution_count": 225,
   "id": "6d625fab",
   "metadata": {},
   "outputs": [],
   "source": [
    "# Splitting the data\n",
    "X = df.drop('Species', axis=1)\n",
    "y = df['Species']\n",
    "\n",
    "X_train, X_test, y_train, y_test = train_test_split(X, y, stratify=y)"
   ]
  },
  {
   "cell_type": "code",
   "execution_count": 227,
   "id": "27918c85",
   "metadata": {},
   "outputs": [
    {
     "data": {
      "text/html": [
       "<div>\n",
       "<style scoped>\n",
       "    .dataframe tbody tr th:only-of-type {\n",
       "        vertical-align: middle;\n",
       "    }\n",
       "\n",
       "    .dataframe tbody tr th {\n",
       "        vertical-align: top;\n",
       "    }\n",
       "\n",
       "    .dataframe thead th {\n",
       "        text-align: right;\n",
       "    }\n",
       "</style>\n",
       "<table border=\"1\" class=\"dataframe\">\n",
       "  <thead>\n",
       "    <tr style=\"text-align: right;\">\n",
       "      <th></th>\n",
       "      <th>Weight</th>\n",
       "      <th>Length1</th>\n",
       "      <th>Length2</th>\n",
       "      <th>Length3</th>\n",
       "      <th>Height</th>\n",
       "      <th>Width</th>\n",
       "    </tr>\n",
       "  </thead>\n",
       "  <tbody>\n",
       "    <tr>\n",
       "      <th>89</th>\n",
       "      <td>135.0</td>\n",
       "      <td>20.0</td>\n",
       "      <td>22.0</td>\n",
       "      <td>23.5</td>\n",
       "      <td>5.8750</td>\n",
       "      <td>3.5250</td>\n",
       "    </tr>\n",
       "    <tr>\n",
       "      <th>100</th>\n",
       "      <td>197.0</td>\n",
       "      <td>23.5</td>\n",
       "      <td>25.6</td>\n",
       "      <td>27.0</td>\n",
       "      <td>6.5610</td>\n",
       "      <td>4.2390</td>\n",
       "    </tr>\n",
       "    <tr>\n",
       "      <th>9</th>\n",
       "      <td>500.0</td>\n",
       "      <td>28.5</td>\n",
       "      <td>30.7</td>\n",
       "      <td>36.2</td>\n",
       "      <td>14.2266</td>\n",
       "      <td>4.9594</td>\n",
       "    </tr>\n",
       "    <tr>\n",
       "      <th>43</th>\n",
       "      <td>150.0</td>\n",
       "      <td>20.4</td>\n",
       "      <td>22.0</td>\n",
       "      <td>24.7</td>\n",
       "      <td>5.8045</td>\n",
       "      <td>3.7544</td>\n",
       "    </tr>\n",
       "    <tr>\n",
       "      <th>62</th>\n",
       "      <td>60.0</td>\n",
       "      <td>14.3</td>\n",
       "      <td>15.5</td>\n",
       "      <td>17.4</td>\n",
       "      <td>6.5772</td>\n",
       "      <td>2.3142</td>\n",
       "    </tr>\n",
       "  </tbody>\n",
       "</table>\n",
       "</div>"
      ],
      "text/plain": [
       "     Weight  Length1  Length2  Length3   Height   Width\n",
       "89    135.0     20.0     22.0     23.5   5.8750  3.5250\n",
       "100   197.0     23.5     25.6     27.0   6.5610  4.2390\n",
       "9     500.0     28.5     30.7     36.2  14.2266  4.9594\n",
       "43    150.0     20.4     22.0     24.7   5.8045  3.7544\n",
       "62     60.0     14.3     15.5     17.4   6.5772  2.3142"
      ]
     },
     "execution_count": 227,
     "metadata": {},
     "output_type": "execute_result"
    }
   ],
   "source": [
    "X_train.head()"
   ]
  },
  {
   "cell_type": "code",
   "execution_count": 228,
   "id": "15bd6d45",
   "metadata": {},
   "outputs": [],
   "source": [
    "# Standard Scaling the data\n",
    "scaler = StandardScaler()\n",
    "\n",
    "X_train_std = scaler.fit_transform(X_train)\n",
    "X_test_std = scaler.fit_transform(X_test)"
   ]
  },
  {
   "cell_type": "code",
   "execution_count": 426,
   "id": "249ead2d",
   "metadata": {},
   "outputs": [],
   "source": [
    "import itertools\n",
    "import datetime\n",
    "from sklearn.model_selection import GridSearchCV\n",
    "\n",
    "class MLTuner:\n",
    "    def __init__(self):\n",
    "        pass\n",
    "    \n",
    "    def combinations_generator(self, searching_space):\n",
    "        hyperparameters = sorted(searching_space)\n",
    "        combinations = itertools.product(*(searching_space[hyperparameter] for hyperparameter in hyperparameters))\n",
    "        for combination in combinations:\n",
    "            yield {k:[v] for k, v in zip(hyperparameters, combination)}\n",
    "\n",
    "    def get_space_size(self, searching_space):\n",
    "        prodcut = 1\n",
    "        for i in range(len(list(searching_space.values()))):\n",
    "            prodcut *= len(list(searching_space.values())[i])\n",
    "\n",
    "        return prodcut\n",
    "    \n",
    "    def fit(self, primary_estimator, secondary_estimator, X, y):\n",
    "        self.primary_estimator = primary_estimator\n",
    "        self.secondary_estimator = secondary_estimator\n",
    "        self.X = X\n",
    "        self.y = y\n",
    "        self.searching_space = searching_space\n",
    "    \n",
    "    def search(self, searching_space, cv, min_sampling_size, min_checking_freq, secondary_scoring_threshold):\n",
    "        hp_samples = pd.DataFrame(columns=list(searching_space.keys()))\n",
    "        searching_space = {k:list(v) for k, v in searching_space.items()}\n",
    "        \n",
    "        searching_space_size = get_space_size(self.searching_space)\n",
    "        \n",
    "        secondary_score_track = []\n",
    "        \n",
    "        count = 1\n",
    "        for p in self.combinations_generator(self.searching_space):\n",
    "            estimator = GridSearchCV(self.primary_estimator, p, verbose=0)\n",
    "            estimator.fit(self.X, self.y)\n",
    "            sample = pd.DataFrame([v[0] for v in p.values()] + [estimator.best_score_], index=[k for k in p.keys()] + [\"score\"]).T\n",
    "            hp_samples = hp_samples.append(sample)\n",
    "            \n",
    "            if len(hp_samples) >= min_sampling_size:\n",
    "                if len(hp_samples) % min_checking_freq == 0:\n",
    "                    X_sample = hp_samples.drop('score', axis=1)\n",
    "                    y_sample = hp_samples['score']\n",
    "                    secondary_score = cross_val_score(estimator=self.secondary_estimator, X=X_sample, y=y_sample, cv=cv, scoring=\"neg_mean_absolute_error\").mean()\n",
    "                    now = datetime.datetime.now()\n",
    "                    current_time = now.strftime(\"%H:%M:%S\")\n",
    "                    print(f\"{current_time}  {count}/{searching_space_size}  Secondary Score: {secondary_score}\")\n",
    "                    secondary_score_track.append(secondary_score)\n",
    "                    \n",
    "                    self.hp_samples.to_csv(\"hp_samples.csv\", index=False)\n",
    "                    \n",
    "                    if secondary_score >= secondary_scoring_threshold:\n",
    "                        print(\"Done Sampling.\")\n",
    "                        break\n",
    "                \n",
    "            count += 1\n",
    "        \n",
    "        self.secondary_score_track = secondary_score_track\n",
    "        self.hp_samples = hp_samples"
   ]
  },
  {
   "cell_type": "code",
   "execution_count": 427,
   "id": "fd89cd5c",
   "metadata": {},
   "outputs": [],
   "source": [
    "searching_space = {\n",
    "    \"learning_rate\": [0.001, 0.01, 0.1], \n",
    "    \"max_depth\":np.arange(1, 16), \n",
    "    \"n_estimators\":[int(i) for i in np.arange(1, 1000, 10)]\n",
    "}"
   ]
  },
  {
   "cell_type": "code",
   "execution_count": 430,
   "id": "68f341a4",
   "metadata": {
    "scrolled": false
   },
   "outputs": [
    {
     "name": "stdout",
     "output_type": "stream",
     "text": [
      "09:42:42\t100/4500\tSecondary Score: -0.006451248946397224\n",
      "10:00:28\t200/4500\tSecondary Score: -0.04648479269812071\n",
      "10:24:42\t300/4500\tSecondary Score: -0.03760059125642271\n",
      "10:53:13\t400/4500\tSecondary Score: -0.04308208072876586\n",
      "11:23:59\t500/4500\tSecondary Score: -0.03358460127201634\n",
      "11:57:01\t600/4500\tSecondary Score: -0.03279915167225733\n",
      "12:29:43\t700/4500\tSecondary Score: -0.034788598738348525\n",
      "13:01:49\t800/4500\tSecondary Score: -0.032262172547803426\n",
      "13:36:38\t900/4500\tSecondary Score: -0.02753811174256791\n",
      "14:09:22\t1000/4500\tSecondary Score: -0.01854838040013245\n",
      "14:41:04\t1100/4500\tSecondary Score: -0.015874612087945862\n",
      "15:14:44\t1200/4500\tSecondary Score: -0.0147426383668098\n",
      "15:47:21\t1300/4500\tSecondary Score: -0.014009159783987441\n",
      "16:19:45\t1400/4500\tSecondary Score: -0.015698548902018966\n",
      "16:52:34\t1500/4500\tSecondary Score: -0.014491910281043121\n",
      "17:04:06\t1600/4500\tSecondary Score: -0.013460804975335148\n",
      "17:21:57\t1700/4500\tSecondary Score: -0.01276385490648379\n",
      "17:46:07\t1800/4500\tSecondary Score: -0.01264396912329823\n",
      "18:11:57\t1900/4500\tSecondary Score: -0.012867121953895132\n",
      "18:38:57\t2000/4500\tSecondary Score: -0.012762193825884144\n",
      "19:07:44\t2100/4500\tSecondary Score: -0.012983398431082937\n",
      "19:36:03\t2200/4500\tSecondary Score: -0.012620547461729595\n",
      "20:05:22\t2300/4500\tSecondary Score: -0.012818886133433141\n",
      "20:34:55\t2400/4500\tSecondary Score: -0.012606558737979423\n",
      "21:04:29\t2500/4500\tSecondary Score: -0.012582075168913694\n",
      "21:34:29\t2600/4500\tSecondary Score: -0.01265657610292552\n",
      "22:04:20\t2700/4500\tSecondary Score: -0.012863069253907181\n",
      "22:34:30\t2800/4500\tSecondary Score: -0.013002498103163018\n",
      "23:03:50\t2900/4500\tSecondary Score: -0.014024210697409514\n",
      "23:33:35\t3000/4500\tSecondary Score: -0.015408636181999526\n",
      "23:44:52\t3100/4500\tSecondary Score: -0.017355417497417768\n",
      "23:59:02\t3200/4500\tSecondary Score: -0.018513202918450482\n",
      "00:14:40\t3300/4500\tSecondary Score: -0.017171407451638025\n",
      "00:30:29\t3400/4500\tSecondary Score: -0.017055155459369038\n",
      "00:46:43\t3500/4500\tSecondary Score: -0.018221475491859405\n",
      "01:02:58\t3600/4500\tSecondary Score: -0.01704909992525159\n",
      "01:19:23\t3700/4500\tSecondary Score: -0.017053314676576167\n",
      "09:31:33\t3800/4500\tSecondary Score: -0.016092593420606646\n",
      "09:47:52\t3900/4500\tSecondary Score: -0.015556266412022651\n",
      "10:04:12\t4000/4500\tSecondary Score: -0.015572257830396941\n",
      "10:20:42\t4100/4500\tSecondary Score: -0.01645154588523371\n",
      "10:37:02\t4200/4500\tSecondary Score: -0.01585185589693265\n",
      "10:53:32\t4300/4500\tSecondary Score: -0.014926927211712935\n",
      "11:10:50\t4400/4500\tSecondary Score: -0.014601142678336187\n",
      "11:28:28\t4500/4500\tSecondary Score: -0.01420070097273674\n"
     ]
    }
   ],
   "source": [
    "xgbc = XGBClassifier(use_label_encoder=False, verbosity=0)\n",
    "xgbr = XGBRegressor()\n",
    "mlt = MLTuner()\n",
    "mlt.fit(xgbc, xgbr, X_train_std, y_train)\n",
    "mlt.search(searching_space, 2, 1, 100, -0.0001)"
   ]
  },
  {
   "cell_type": "code",
   "execution_count": 455,
   "id": "f16557ad",
   "metadata": {},
   "outputs": [
    {
     "data": {
      "image/png": "[encoded data removed]",
      "text/plain": [
       "<Figure size 432x288 with 1 Axes>"
      ]
     },
     "metadata": {
      "needs_background": "light"
     },
     "output_type": "display_data"
    }
   ],
   "source": [
    "# Inspect the training process\n",
    "plt.plot(mlt.secondary_score_track)\n",
    "plt.ylabel(\"Negative Mean Absolute Error\")\n",
    "plt.show()"
   ]
  },
  {
   "cell_type": "code",
   "execution_count": 432,
   "id": "3365d591",
   "metadata": {},
   "outputs": [],
   "source": [
    "# Save Our Result\n",
    "hp_samples = mlt.hp_samples\n",
    "hp_samples.to_csv(\"hp_samples.csv\", index=False)"
   ]
  },
  {
   "cell_type": "code",
   "execution_count": 435,
   "id": "da67e4d6",
   "metadata": {},
   "outputs": [],
   "source": [
    "X2 = hp_samples.drop(\"score\", axis=1)\n",
    "y2 = hp_samples[\"score\"]\n",
    "\n",
    "X_train2, X_test2, y_train2, y_test2 = train_test_split(X2, y2, shuffle=True)"
   ]
  },
  {
   "cell_type": "code",
   "execution_count": 456,
   "id": "fd01ce7f",
   "metadata": {},
   "outputs": [
    {
     "name": "stdout",
     "output_type": "stream",
     "text": [
      "-0.0027313016229077707\n"
     ]
    }
   ],
   "source": [
    "xgbr = XGBRegressor()\n",
    "mean_neg_mae = cross_val_score(X=X_train2, y=y_train2, estimator=xgbr, cv=5, scoring=\"neg_mean_absolute_error\").mean()\n",
    "print(mean_neg_mae)"
   ]
  },
  {
   "cell_type": "code",
   "execution_count": 457,
   "id": "4a20d9da",
   "metadata": {},
   "outputs": [
    {
     "name": "stdout",
     "output_type": "stream",
     "text": [
      "0.0026559311997295305\n"
     ]
    }
   ],
   "source": [
    "xgbr.fit(X_train2, y_train2)\n",
    "y_pred2 = xgbr.predict(X_test2)\n",
    "print(sum(abs(y_pred2 - y_test2))/len(y_test2))"
   ]
  },
  {
   "cell_type": "code",
   "execution_count": 450,
   "id": "acd2f78e",
   "metadata": {},
   "outputs": [
    {
     "data": {
      "text/html": [
       "<div>\n",
       "<style scoped>\n",
       "    .dataframe tbody tr th:only-of-type {\n",
       "        vertical-align: middle;\n",
       "    }\n",
       "\n",
       "    .dataframe tbody tr th {\n",
       "        vertical-align: top;\n",
       "    }\n",
       "\n",
       "    .dataframe thead th {\n",
       "        text-align: right;\n",
       "    }\n",
       "</style>\n",
       "<table border=\"1\" class=\"dataframe\">\n",
       "  <thead>\n",
       "    <tr style=\"text-align: right;\">\n",
       "      <th></th>\n",
       "      <th>learning_rate</th>\n",
       "      <th>max_depth</th>\n",
       "      <th>n_estimators</th>\n",
       "      <th>score</th>\n",
       "    </tr>\n",
       "  </thead>\n",
       "  <tbody>\n",
       "    <tr>\n",
       "      <th>0</th>\n",
       "      <td>0.001</td>\n",
       "      <td>4.0</td>\n",
       "      <td>931.0</td>\n",
       "      <td>0.739493</td>\n",
       "    </tr>\n",
       "    <tr>\n",
       "      <th>0</th>\n",
       "      <td>0.001</td>\n",
       "      <td>4.0</td>\n",
       "      <td>891.0</td>\n",
       "      <td>0.739493</td>\n",
       "    </tr>\n",
       "    <tr>\n",
       "      <th>0</th>\n",
       "      <td>0.001</td>\n",
       "      <td>4.0</td>\n",
       "      <td>861.0</td>\n",
       "      <td>0.739493</td>\n",
       "    </tr>\n",
       "    <tr>\n",
       "      <th>0</th>\n",
       "      <td>0.001</td>\n",
       "      <td>4.0</td>\n",
       "      <td>921.0</td>\n",
       "      <td>0.739493</td>\n",
       "    </tr>\n",
       "    <tr>\n",
       "      <th>0</th>\n",
       "      <td>0.001</td>\n",
       "      <td>4.0</td>\n",
       "      <td>841.0</td>\n",
       "      <td>0.739493</td>\n",
       "    </tr>\n",
       "    <tr>\n",
       "      <th>...</th>\n",
       "      <td>...</td>\n",
       "      <td>...</td>\n",
       "      <td>...</td>\n",
       "      <td>...</td>\n",
       "    </tr>\n",
       "    <tr>\n",
       "      <th>0</th>\n",
       "      <td>0.010</td>\n",
       "      <td>1.0</td>\n",
       "      <td>331.0</td>\n",
       "      <td>0.604348</td>\n",
       "    </tr>\n",
       "    <tr>\n",
       "      <th>0</th>\n",
       "      <td>0.010</td>\n",
       "      <td>1.0</td>\n",
       "      <td>351.0</td>\n",
       "      <td>0.604348</td>\n",
       "    </tr>\n",
       "    <tr>\n",
       "      <th>0</th>\n",
       "      <td>0.100</td>\n",
       "      <td>1.0</td>\n",
       "      <td>31.0</td>\n",
       "      <td>0.587319</td>\n",
       "    </tr>\n",
       "    <tr>\n",
       "      <th>0</th>\n",
       "      <td>0.010</td>\n",
       "      <td>1.0</td>\n",
       "      <td>311.0</td>\n",
       "      <td>0.587319</td>\n",
       "    </tr>\n",
       "    <tr>\n",
       "      <th>0</th>\n",
       "      <td>0.010</td>\n",
       "      <td>1.0</td>\n",
       "      <td>321.0</td>\n",
       "      <td>0.587319</td>\n",
       "    </tr>\n",
       "  </tbody>\n",
       "</table>\n",
       "<p>4500 rows × 4 columns</p>\n",
       "</div>"
      ],
      "text/plain": [
       "    learning_rate  max_depth  n_estimators     score\n",
       "0           0.001        4.0         931.0  0.739493\n",
       "0           0.001        4.0         891.0  0.739493\n",
       "0           0.001        4.0         861.0  0.739493\n",
       "0           0.001        4.0         921.0  0.739493\n",
       "0           0.001        4.0         841.0  0.739493\n",
       "..            ...        ...           ...       ...\n",
       "0           0.010        1.0         331.0  0.604348\n",
       "0           0.010        1.0         351.0  0.604348\n",
       "0           0.100        1.0          31.0  0.587319\n",
       "0           0.010        1.0         311.0  0.587319\n",
       "0           0.010        1.0         321.0  0.587319\n",
       "\n",
       "[4500 rows x 4 columns]"
      ]
     },
     "execution_count": 450,
     "metadata": {},
     "output_type": "execute_result"
    }
   ],
   "source": [
    "hp_samples.sort_values(\"score\", ascending=False)"
   ]
  },
  {
   "cell_type": "code",
   "execution_count": 473,
   "id": "3b6f17be",
   "metadata": {},
   "outputs": [
    {
     "data": {
      "text/html": [
       "<div>\n",
       "<style scoped>\n",
       "    .dataframe tbody tr th:only-of-type {\n",
       "        vertical-align: middle;\n",
       "    }\n",
       "\n",
       "    .dataframe tbody tr th {\n",
       "        vertical-align: top;\n",
       "    }\n",
       "\n",
       "    .dataframe thead th {\n",
       "        text-align: right;\n",
       "    }\n",
       "</style>\n",
       "<table border=\"1\" class=\"dataframe\">\n",
       "  <thead>\n",
       "    <tr style=\"text-align: right;\">\n",
       "      <th></th>\n",
       "      <th>learning_rate</th>\n",
       "      <th>max_depth</th>\n",
       "      <th>n_estimators</th>\n",
       "      <th>score</th>\n",
       "    </tr>\n",
       "  </thead>\n",
       "  <tbody>\n",
       "    <tr>\n",
       "      <th>0</th>\n",
       "      <td>0.001</td>\n",
       "      <td>4.0</td>\n",
       "      <td>831.0</td>\n",
       "      <td>0.739493</td>\n",
       "    </tr>\n",
       "    <tr>\n",
       "      <th>0</th>\n",
       "      <td>0.001</td>\n",
       "      <td>4.0</td>\n",
       "      <td>841.0</td>\n",
       "      <td>0.739493</td>\n",
       "    </tr>\n",
       "    <tr>\n",
       "      <th>0</th>\n",
       "      <td>0.001</td>\n",
       "      <td>4.0</td>\n",
       "      <td>851.0</td>\n",
       "      <td>0.739493</td>\n",
       "    </tr>\n",
       "    <tr>\n",
       "      <th>0</th>\n",
       "      <td>0.001</td>\n",
       "      <td>4.0</td>\n",
       "      <td>861.0</td>\n",
       "      <td>0.739493</td>\n",
       "    </tr>\n",
       "    <tr>\n",
       "      <th>0</th>\n",
       "      <td>0.001</td>\n",
       "      <td>4.0</td>\n",
       "      <td>871.0</td>\n",
       "      <td>0.739493</td>\n",
       "    </tr>\n",
       "    <tr>\n",
       "      <th>0</th>\n",
       "      <td>0.001</td>\n",
       "      <td>4.0</td>\n",
       "      <td>881.0</td>\n",
       "      <td>0.739493</td>\n",
       "    </tr>\n",
       "    <tr>\n",
       "      <th>0</th>\n",
       "      <td>0.001</td>\n",
       "      <td>4.0</td>\n",
       "      <td>891.0</td>\n",
       "      <td>0.739493</td>\n",
       "    </tr>\n",
       "    <tr>\n",
       "      <th>0</th>\n",
       "      <td>0.001</td>\n",
       "      <td>4.0</td>\n",
       "      <td>901.0</td>\n",
       "      <td>0.739493</td>\n",
       "    </tr>\n",
       "    <tr>\n",
       "      <th>0</th>\n",
       "      <td>0.001</td>\n",
       "      <td>4.0</td>\n",
       "      <td>911.0</td>\n",
       "      <td>0.739493</td>\n",
       "    </tr>\n",
       "    <tr>\n",
       "      <th>0</th>\n",
       "      <td>0.001</td>\n",
       "      <td>4.0</td>\n",
       "      <td>921.0</td>\n",
       "      <td>0.739493</td>\n",
       "    </tr>\n",
       "    <tr>\n",
       "      <th>0</th>\n",
       "      <td>0.001</td>\n",
       "      <td>4.0</td>\n",
       "      <td>931.0</td>\n",
       "      <td>0.739493</td>\n",
       "    </tr>\n",
       "    <tr>\n",
       "      <th>0</th>\n",
       "      <td>0.001</td>\n",
       "      <td>4.0</td>\n",
       "      <td>941.0</td>\n",
       "      <td>0.739493</td>\n",
       "    </tr>\n",
       "    <tr>\n",
       "      <th>0</th>\n",
       "      <td>0.010</td>\n",
       "      <td>4.0</td>\n",
       "      <td>71.0</td>\n",
       "      <td>0.739493</td>\n",
       "    </tr>\n",
       "    <tr>\n",
       "      <th>0</th>\n",
       "      <td>0.010</td>\n",
       "      <td>4.0</td>\n",
       "      <td>91.0</td>\n",
       "      <td>0.739493</td>\n",
       "    </tr>\n",
       "  </tbody>\n",
       "</table>\n",
       "</div>"
      ],
      "text/plain": [
       "   learning_rate  max_depth  n_estimators     score\n",
       "0          0.001        4.0         831.0  0.739493\n",
       "0          0.001        4.0         841.0  0.739493\n",
       "0          0.001        4.0         851.0  0.739493\n",
       "0          0.001        4.0         861.0  0.739493\n",
       "0          0.001        4.0         871.0  0.739493\n",
       "0          0.001        4.0         881.0  0.739493\n",
       "0          0.001        4.0         891.0  0.739493\n",
       "0          0.001        4.0         901.0  0.739493\n",
       "0          0.001        4.0         911.0  0.739493\n",
       "0          0.001        4.0         921.0  0.739493\n",
       "0          0.001        4.0         931.0  0.739493\n",
       "0          0.001        4.0         941.0  0.739493\n",
       "0          0.010        4.0          71.0  0.739493\n",
       "0          0.010        4.0          91.0  0.739493"
      ]
     },
     "execution_count": 473,
     "metadata": {},
     "output_type": "execute_result"
    }
   ],
   "source": [
    "hp_samples[hp_samples.score >= 0.739]"
   ]
  },
  {
   "cell_type": "code",
   "execution_count": 458,
   "id": "e7a48c4e",
   "metadata": {},
   "outputs": [
    {
     "name": "stdout",
     "output_type": "stream",
     "text": [
      "CPU times: user 3.49 ms, sys: 1.36 ms, total: 4.85 ms\n",
      "Wall time: 2.89 ms\n"
     ]
    },
    {
     "data": {
      "text/plain": [
       "array([0.73519367], dtype=float32)"
      ]
     },
     "execution_count": 458,
     "metadata": {},
     "output_type": "execute_result"
    }
   ],
   "source": [
    "%%time\n",
    "xgbr.predict(pd.DataFrame([0.0001, 4, 931], index=['learning_rate', 'max_depth', 'n_estimators']).T)"
   ]
  },
  {
   "cell_type": "code",
   "execution_count": 459,
   "id": "8632efd7",
   "metadata": {},
   "outputs": [
    {
     "name": "stdout",
     "output_type": "stream",
     "text": [
      "CPU times: user 5.38 s, sys: 4.4 s, total: 9.78 s\n",
      "Wall time: 2.01 s\n"
     ]
    },
    {
     "data": {
      "text/plain": [
       "0.6884057971014493"
      ]
     },
     "execution_count": 459,
     "metadata": {},
     "output_type": "execute_result"
    }
   ],
   "source": [
    "%%time\n",
    "cross_val_score(xgbc, X_train_std, y_train, cv=5).mean()"
   ]
  },
  {
   "cell_type": "code",
   "execution_count": 461,
   "id": "79ef0e3b",
   "metadata": {},
   "outputs": [
    {
     "name": "stdout",
     "output_type": "stream",
     "text": [
      "The time spent ratio between gridcv search and MLT prediction for one point: 695.5017301038062\n"
     ]
    }
   ],
   "source": [
    "factor_k = 2.01/(2.89e-3)\n",
    "print(f\"The time spent ratio between gridcv search and MLT prediction for one point: {factor_k}\")"
   ]
  },
  {
   "cell_type": "code",
   "execution_count": 482,
   "id": "907431bf",
   "metadata": {},
   "outputs": [],
   "source": [
    "res = pd.DataFrame(columns=['learning_rate', 'max_depth', 'n_estimators', 'score'])\n",
    "for ne in np.arange(831, 1001):\n",
    "    score = xgbr.predict(pd.DataFrame([0.0001, 4, ne], index=['learning_rate', 'max_depth', 'n_estimators']).T)\n",
    "    res = res.append(pd.DataFrame([0.0001, 4, ne] + [score[0]], index=['learning_rate', 'max_depth', 'n_estimators', 'score']).T)"
   ]
  },
  {
   "cell_type": "code",
   "execution_count": 483,
   "id": "302d2fc1",
   "metadata": {},
   "outputs": [
    {
     "data": {
      "text/html": [
       "<div>\n",
       "<style scoped>\n",
       "    .dataframe tbody tr th:only-of-type {\n",
       "        vertical-align: middle;\n",
       "    }\n",
       "\n",
       "    .dataframe tbody tr th {\n",
       "        vertical-align: top;\n",
       "    }\n",
       "\n",
       "    .dataframe thead th {\n",
       "        text-align: right;\n",
       "    }\n",
       "</style>\n",
       "<table border=\"1\" class=\"dataframe\">\n",
       "  <thead>\n",
       "    <tr style=\"text-align: right;\">\n",
       "      <th></th>\n",
       "      <th>learning_rate</th>\n",
       "      <th>max_depth</th>\n",
       "      <th>n_estimators</th>\n",
       "      <th>score</th>\n",
       "    </tr>\n",
       "  </thead>\n",
       "  <tbody>\n",
       "    <tr>\n",
       "      <th>0</th>\n",
       "      <td>0.0001</td>\n",
       "      <td>4.0</td>\n",
       "      <td>927.0</td>\n",
       "      <td>0.735194</td>\n",
       "    </tr>\n",
       "    <tr>\n",
       "      <th>0</th>\n",
       "      <td>0.0001</td>\n",
       "      <td>4.0</td>\n",
       "      <td>935.0</td>\n",
       "      <td>0.735194</td>\n",
       "    </tr>\n",
       "    <tr>\n",
       "      <th>0</th>\n",
       "      <td>0.0001</td>\n",
       "      <td>4.0</td>\n",
       "      <td>934.0</td>\n",
       "      <td>0.735194</td>\n",
       "    </tr>\n",
       "    <tr>\n",
       "      <th>0</th>\n",
       "      <td>0.0001</td>\n",
       "      <td>4.0</td>\n",
       "      <td>933.0</td>\n",
       "      <td>0.735194</td>\n",
       "    </tr>\n",
       "    <tr>\n",
       "      <th>0</th>\n",
       "      <td>0.0001</td>\n",
       "      <td>4.0</td>\n",
       "      <td>932.0</td>\n",
       "      <td>0.735194</td>\n",
       "    </tr>\n",
       "    <tr>\n",
       "      <th>...</th>\n",
       "      <td>...</td>\n",
       "      <td>...</td>\n",
       "      <td>...</td>\n",
       "      <td>...</td>\n",
       "    </tr>\n",
       "    <tr>\n",
       "      <th>0</th>\n",
       "      <td>0.0001</td>\n",
       "      <td>4.0</td>\n",
       "      <td>980.0</td>\n",
       "      <td>0.730210</td>\n",
       "    </tr>\n",
       "    <tr>\n",
       "      <th>0</th>\n",
       "      <td>0.0001</td>\n",
       "      <td>4.0</td>\n",
       "      <td>985.0</td>\n",
       "      <td>0.730210</td>\n",
       "    </tr>\n",
       "    <tr>\n",
       "      <th>0</th>\n",
       "      <td>0.0001</td>\n",
       "      <td>4.0</td>\n",
       "      <td>984.0</td>\n",
       "      <td>0.730210</td>\n",
       "    </tr>\n",
       "    <tr>\n",
       "      <th>0</th>\n",
       "      <td>0.0001</td>\n",
       "      <td>4.0</td>\n",
       "      <td>983.0</td>\n",
       "      <td>0.730210</td>\n",
       "    </tr>\n",
       "    <tr>\n",
       "      <th>0</th>\n",
       "      <td>0.0001</td>\n",
       "      <td>4.0</td>\n",
       "      <td>979.0</td>\n",
       "      <td>0.730210</td>\n",
       "    </tr>\n",
       "  </tbody>\n",
       "</table>\n",
       "<p>170 rows × 4 columns</p>\n",
       "</div>"
      ],
      "text/plain": [
       "    learning_rate  max_depth  n_estimators     score\n",
       "0          0.0001        4.0         927.0  0.735194\n",
       "0          0.0001        4.0         935.0  0.735194\n",
       "0          0.0001        4.0         934.0  0.735194\n",
       "0          0.0001        4.0         933.0  0.735194\n",
       "0          0.0001        4.0         932.0  0.735194\n",
       "..            ...        ...           ...       ...\n",
       "0          0.0001        4.0         980.0  0.730210\n",
       "0          0.0001        4.0         985.0  0.730210\n",
       "0          0.0001        4.0         984.0  0.730210\n",
       "0          0.0001        4.0         983.0  0.730210\n",
       "0          0.0001        4.0         979.0  0.730210\n",
       "\n",
       "[170 rows x 4 columns]"
      ]
     },
     "execution_count": 483,
     "metadata": {},
     "output_type": "execute_result"
    }
   ],
   "source": [
    "res.sort_values(\"score\", ascending=False)"
   ]
  },
  {
   "cell_type": "code",
   "execution_count": 486,
   "id": "7b943d8e",
   "metadata": {},
   "outputs": [
    {
     "data": {
      "text/plain": [
       "0.7061594202898551"
      ]
     },
     "execution_count": 486,
     "metadata": {},
     "output_type": "execute_result"
    }
   ],
   "source": [
    "xgbc = XGBClassifier(use_label_encoder=False, learning_rate=0.0001, max_depth=4, n_estimators=927)\n",
    "cross_val_score(xgbc, X_train_std, y_train, cv=5).mean()"
   ]
  },
  {
   "cell_type": "markdown",
   "id": "b263273d",
   "metadata": {},
   "source": [
    "# Conclusion\n",
    "\n",
    "Although the idea of using another ML model to model the predict the optimum hyparameters could be theoretically more time saving, its effectiveness seems being hindered by the accuracy of secondary ML model. Different datasets (real world data, various sizes...) should be investigated with other ML models as well."
   ]
  },
  {
   "cell_type": "code",
   "execution_count": null,
   "id": "a6444104",
   "metadata": {},
   "outputs": [],
   "source": []
  }
 ],
 "metadata": {
  "kernelspec": {
   "display_name": "Python 3",
   "language": "python",
   "name": "python3"
  },
  "language_info": {
   "codemirror_mode": {
    "name": "ipython",
    "version": 3
   },
   "file_extension": ".py",
   "mimetype": "text/x-python",
   "name": "python",
   "nbconvert_exporter": "python",
   "pygments_lexer": "ipython3",
   "version": "3.8.8"
  }
 },
 "nbformat": 4,
 "nbformat_minor": 5
}
