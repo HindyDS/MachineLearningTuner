{
 "cells": [
  {
   "cell_type": "code",
   "execution_count": 1,
   "id": "1ea76962",
   "metadata": {},
   "outputs": [],
   "source": [
    "import pandas as pd\n",
    "import numpy as np\n",
    "\n",
    "from sklearn.model_selection import cross_val_score\n",
    "from xgboost import XGBClassifier\n",
    "from xgboost import XGBRegressor"
   ]
  },
  {
   "cell_type": "code",
   "execution_count": 3,
   "id": "15e917e8",
   "metadata": {},
   "outputs": [],
   "source": [
    "df = pd.read_csv(\"fish.csv\")"
   ]
  },
  {
   "cell_type": "code",
   "execution_count": 9,
   "id": "00797fa6",
   "metadata": {},
   "outputs": [],
   "source": [
    "coding = {k:v for k, v in zip(df[' c'].unique(), range(df['Species'].nunique()))}"
   ]
  },
  {
   "cell_type": "code",
   "execution_count": 11,
   "id": "12daa66f",
   "metadata": {},
   "outputs": [],
   "source": [
    "df['Species'] = df.Species.replace(coding)"
   ]
  },
  {
   "cell_type": "code",
   "execution_count": 225,
   "id": "ce9fe75d",
   "metadata": {},
   "outputs": [],
   "source": [
    "X = df.drop('Species', axis=1)\n",
    "y = df['Species']"
   ]
  },
  {
   "cell_type": "code",
   "execution_count": 226,
   "id": "3a12dec1",
   "metadata": {},
   "outputs": [],
   "source": [
    "from sklearn.model_selection import train_test_split\n",
    "X_train, X_test, y_train, y_test = train_test_split(X, y, stratify=y)"
   ]
  },
  {
   "cell_type": "code",
   "execution_count": 227,
   "id": "7c6f1c0d",
   "metadata": {},
   "outputs": [
    {
     "data": {
      "text/html": [
       "<div>\n",
       "<style scoped>\n",
       "    .dataframe tbody tr th:only-of-type {\n",
       "        vertical-align: middle;\n",
       "    }\n",
       "\n",
       "    .dataframe tbody tr th {\n",
       "        vertical-align: top;\n",
       "    }\n",
       "\n",
       "    .dataframe thead th {\n",
       "        text-align: right;\n",
       "    }\n",
       "</style>\n",
       "<table border=\"1\" class=\"dataframe\">\n",
       "  <thead>\n",
       "    <tr style=\"text-align: right;\">\n",
       "      <th></th>\n",
       "      <th>Weight</th>\n",
       "      <th>Length1</th>\n",
       "      <th>Length2</th>\n",
       "      <th>Length3</th>\n",
       "      <th>Height</th>\n",
       "      <th>Width</th>\n",
       "    </tr>\n",
       "  </thead>\n",
       "  <tbody>\n",
       "    <tr>\n",
       "      <th>89</th>\n",
       "      <td>135.0</td>\n",
       "      <td>20.0</td>\n",
       "      <td>22.0</td>\n",
       "      <td>23.5</td>\n",
       "      <td>5.8750</td>\n",
       "      <td>3.5250</td>\n",
       "    </tr>\n",
       "    <tr>\n",
       "      <th>100</th>\n",
       "      <td>197.0</td>\n",
       "      <td>23.5</td>\n",
       "      <td>25.6</td>\n",
       "      <td>27.0</td>\n",
       "      <td>6.5610</td>\n",
       "      <td>4.2390</td>\n",
       "    </tr>\n",
       "    <tr>\n",
       "      <th>9</th>\n",
       "      <td>500.0</td>\n",
       "      <td>28.5</td>\n",
       "      <td>30.7</td>\n",
       "      <td>36.2</td>\n",
       "      <td>14.2266</td>\n",
       "      <td>4.9594</td>\n",
       "    </tr>\n",
       "    <tr>\n",
       "      <th>43</th>\n",
       "      <td>150.0</td>\n",
       "      <td>20.4</td>\n",
       "      <td>22.0</td>\n",
       "      <td>24.7</td>\n",
       "      <td>5.8045</td>\n",
       "      <td>3.7544</td>\n",
       "    </tr>\n",
       "    <tr>\n",
       "      <th>62</th>\n",
       "      <td>60.0</td>\n",
       "      <td>14.3</td>\n",
       "      <td>15.5</td>\n",
       "      <td>17.4</td>\n",
       "      <td>6.5772</td>\n",
       "      <td>2.3142</td>\n",
       "    </tr>\n",
       "  </tbody>\n",
       "</table>\n",
       "</div>"
      ],
      "text/plain": [
       "     Weight  Length1  Length2  Length3   Height   Width\n",
       "89    135.0     20.0     22.0     23.5   5.8750  3.5250\n",
       "100   197.0     23.5     25.6     27.0   6.5610  4.2390\n",
       "9     500.0     28.5     30.7     36.2  14.2266  4.9594\n",
       "43    150.0     20.4     22.0     24.7   5.8045  3.7544\n",
       "62     60.0     14.3     15.5     17.4   6.5772  2.3142"
      ]
     },
     "execution_count": 227,
     "metadata": {},
     "output_type": "execute_result"
    }
   ],
   "source": [
    "X_train.head()"
   ]
  },
  {
   "cell_type": "code",
   "execution_count": 228,
   "id": "9c1d41b9",
   "metadata": {},
   "outputs": [],
   "source": [
    "from sklearn.preprocessing import StandardScaler\n",
    "scaler = StandardScaler()\n",
    "\n",
    "X_train_std = scaler.fit_transform(X_train)\n",
    "X_test_std = scaler.fit_transform(X_test)"
   ]
  },
  {
   "cell_type": "code",
   "execution_count": 426,
   "id": "679014ea",
   "metadata": {},
   "outputs": [],
   "source": [
    "import itertools\n",
    "import datetime\n",
    "from sklearn.model_selection import GridSearchCV\n",
    "\n",
    "class MLTuner:\n",
    "    def __init__(self):\n",
    "        pass\n",
    "    \n",
    "    def combinations_generator(self, searching_space):\n",
    "        hyperparameters = sorted(searching_space)\n",
    "        combinations = itertools.product(*(searching_space[hyperparameter] for hyperparameter in hyperparameters))\n",
    "        for combination in combinations:\n",
    "            yield {k:[v] for k, v in zip(hyperparameters, combination)}\n",
    "\n",
    "    def get_space_size(self, searching_space):\n",
    "        prodcut = 1\n",
    "        for i in range(len(list(searching_space.values()))):\n",
    "            prodcut *= len(list(searching_space.values())[i])\n",
    "\n",
    "        return prodcut\n",
    "    \n",
    "    def fit(self, primary_estimator, secondary_estimator, X, y):\n",
    "        self.primary_estimator = primary_estimator\n",
    "        self.secondary_estimator = secondary_estimator\n",
    "        self.X = X\n",
    "        self.y = y\n",
    "        self.searching_space = searching_space\n",
    "    \n",
    "    def search(self, searching_space, cv, min_sampling_size, min_checking_freq, secondary_scoring_threshold):\n",
    "        hp_samples = pd.DataFrame(columns=list(searching_space.keys()))\n",
    "        searching_space = {k:list(v) for k, v in searching_space.items()}\n",
    "        \n",
    "        searching_space_size = get_space_size(self.searching_space)\n",
    "        \n",
    "        secondary_score_track = []\n",
    "        \n",
    "        count = 1\n",
    "        for p in self.combinations_generator(self.searching_space):\n",
    "            estimator = GridSearchCV(self.primary_estimator, p, verbose=0)\n",
    "            estimator.fit(self.X, self.y)\n",
    "            sample = pd.DataFrame([v[0] for v in p.values()] + [estimator.best_score_], index=[k for k in p.keys()] + [\"score\"]).T\n",
    "            hp_samples = hp_samples.append(sample)\n",
    "            \n",
    "            if len(hp_samples) >= min_sampling_size:\n",
    "                if len(hp_samples) % min_checking_freq == 0:\n",
    "                    X_sample = hp_samples.drop('score', axis=1)\n",
    "                    y_sample = hp_samples['score']\n",
    "                    secondary_score = cross_val_score(estimator=self.secondary_estimator, X=X_sample, y=y_sample, cv=cv, scoring=\"neg_mean_absolute_error\").mean()\n",
    "                    now = datetime.datetime.now()\n",
    "                    current_time = now.strftime(\"%H:%M:%S\")\n",
    "                    print(f\"{current_time}  {count}/{searching_space_size}  Secondary Score: {secondary_score}\")\n",
    "                    secondary_score_track.append(secondary_score)\n",
    "                    \n",
    "                    if secondary_score >= secondary_scoring_threshold:\n",
    "                        print(\"Done Sampling.\")\n",
    "                        break\n",
    "                \n",
    "            count += 1\n",
    "        \n",
    "        self.secondary_score_track = secondary_score_track\n",
    "        self.hp_samples = hp_samples"
   ]
  },
  {
   "cell_type": "code",
   "execution_count": 427,
   "id": "9ceced69",
   "metadata": {},
   "outputs": [],
   "source": [
    "searching_space = {\n",
    "    \"learning_rate\": [0.001, 0.01, 0.1], \n",
    "    \"max_depth\":np.arange(1, 16), \n",
    "    \"n_estimators\":[int(i) for i in np.arange(1, 1000, 10)]\n",
    "}"
   ]
  },
  {
   "cell_type": "code",
   "execution_count": 428,
   "id": "b9161cb3",
   "metadata": {
    "scrolled": true
   },
   "outputs": [
    {
     "name": "stdout",
     "output_type": "stream",
     "text": [
      "12:47:46\t10/4500\tSecondary Score: -0.003773930867513009\n",
      "12:48:07\t20/4500\tSecondary Score: -0.0067179653437241076\n",
      "12:48:42\t30/4500\tSecondary Score: -0.010926607709000051\n",
      "12:49:30\t40/4500\tSecondary Score: -0.014560401059579162\n",
      "12:50:32\t50/4500\tSecondary Score: -0.009807113295016098\n",
      "12:51:49\t60/4500\tSecondary Score: -0.005414528483929865\n",
      "12:53:20\t70/4500\tSecondary Score: -0.005631840273460269\n",
      "12:55:04\t80/4500\tSecondary Score: -0.005941233984802103\n",
      "12:57:03\t90/4500\tSecondary Score: -0.006210388400128521\n",
      "12:59:16\t100/4500\tSecondary Score: -0.006451248946397224\n",
      "12:59:26\t110/4500\tSecondary Score: -0.006963236402617156\n",
      "12:59:57\t120/4500\tSecondary Score: -0.005399183152954366\n",
      "13:00:49\t130/4500\tSecondary Score: -0.005742780725028341\n",
      "13:02:03\t140/4500\tSecondary Score: -0.007800915295539686\n",
      "13:03:38\t150/4500\tSecondary Score: -0.011316969805869498\n",
      "13:05:34\t160/4500\tSecondary Score: -0.015218066862527873\n",
      "13:07:51\t170/4500\tSecondary Score: -0.019382641060374677\n",
      "13:10:30\t180/4500\tSecondary Score: -0.02127911381867388\n",
      "13:13:31\t190/4500\tSecondary Score: -0.025530163311576388\n",
      "13:16:54\t200/4500\tSecondary Score: -0.04648479269812071\n",
      "13:17:07\t210/4500\tSecondary Score: -0.04665918252318376\n",
      "13:17:46\t220/4500\tSecondary Score: -0.046679033297795075\n",
      "13:18:52\t230/4500\tSecondary Score: -0.04782699811135589\n",
      "13:20:25\t240/4500\tSecondary Score: -0.047660630155300754\n",
      "13:22:28\t250/4500\tSecondary Score: -0.05003529075194098\n",
      "13:24:56\t260/4500\tSecondary Score: -0.046716770996218154\n",
      "13:27:52\t270/4500\tSecondary Score: -0.0459466334011244\n",
      "13:31:14\t280/4500\tSecondary Score: -0.043174478030352875\n",
      "13:35:04\t290/4500\tSecondary Score: -0.04152285802310733\n",
      "13:39:22\t300/4500\tSecondary Score: -0.03760059125642271\n",
      "13:39:37\t310/4500\tSecondary Score: -0.03820658461464629\n",
      "13:40:22\t320/4500\tSecondary Score: -0.03925666266377423\n",
      "13:41:39\t330/4500\tSecondary Score: -0.03980750952051773\n",
      "13:43:26\t340/4500\tSecondary Score: -0.04038927949704581\n",
      "13:45:44\t350/4500\tSecondary Score: -0.03981763963521638\n",
      "13:48:34\t360/4500\tSecondary Score: -0.03932397260374111\n",
      "13:51:55\t370/4500\tSecondary Score: -0.03944292602985457\n",
      "13:55:48\t380/4500\tSecondary Score: -0.0394620750288669\n",
      "14:00:12\t390/4500\tSecondary Score: -0.04023888492885465\n",
      "14:05:17\t400/4500\tSecondary Score: -0.04308208072876586\n",
      "14:05:33\t410/4500\tSecondary Score: -0.03319539039705533\n",
      "14:06:21\t420/4500\tSecondary Score: -0.03368759011876757\n",
      "14:07:43\t430/4500\tSecondary Score: -0.032800413824951864\n",
      "14:09:37\t440/4500\tSecondary Score: -0.03317537158452791\n",
      "14:12:06\t450/4500\tSecondary Score: -0.031120111311115518\n",
      "14:15:08\t460/4500\tSecondary Score: -0.03254837094911181\n",
      "14:18:43\t470/4500\tSecondary Score: -0.03159637556045174\n",
      "14:23:30\t480/4500\tSecondary Score: -0.03193233978885096\n",
      "14:28:53\t490/4500\tSecondary Score: -0.03173329154791405\n",
      "14:34:44\t500/4500\tSecondary Score: -0.03358460127201634\n",
      "14:35:02\t510/4500\tSecondary Score: -0.03574878196988672\n",
      "14:35:57\t520/4500\tSecondary Score: -0.03443365213397887\n",
      "14:37:31\t530/4500\tSecondary Score: -0.033970987168954386\n",
      "14:39:42\t540/4500\tSecondary Score: -0.03206855752745817\n",
      "14:42:19\t550/4500\tSecondary Score: -0.03117097218642908\n",
      "14:45:32\t560/4500\tSecondary Score: -0.03231126799963524\n",
      "14:49:27\t570/4500\tSecondary Score: -0.03236679131524606\n",
      "14:54:09\t580/4500\tSecondary Score: -0.03214640173508132\n",
      "14:59:41\t590/4500\tSecondary Score: -0.03265187680501665\n",
      "15:06:04\t600/4500\tSecondary Score: -0.03279915167225733\n",
      "15:06:23\t610/4500\tSecondary Score: -0.03474655106646004\n",
      "15:07:22\t620/4500\tSecondary Score: -0.036214176714838314\n",
      "15:09:01\t630/4500\tSecondary Score: -0.03523125203609578\n",
      "15:11:17\t640/4500\tSecondary Score: -0.03292974530948678\n",
      "15:14:26\t650/4500\tSecondary Score: -0.032948833547707\n",
      "15:18:08\t660/4500\tSecondary Score: -0.0333562448632576\n",
      "15:22:19\t670/4500\tSecondary Score: -0.03439062347897922\n",
      "15:27:35\t680/4500\tSecondary Score: -0.03460424149788454\n",
      "15:33:29\t690/4500\tSecondary Score: -0.035000219901452884\n",
      "15:39:56\t700/4500\tSecondary Score: -0.034788598738348525\n",
      "15:40:14\t710/4500\tSecondary Score: -0.035012694854204905\n",
      "15:41:09\t720/4500\tSecondary Score: -0.036995286007386295\n",
      "15:42:40\t730/4500\tSecondary Score: -0.03757879229796083\n",
      "15:44:49\t740/4500\tSecondary Score: -0.03926745026895126\n",
      "15:47:34\t750/4500\tSecondary Score: -0.0379661623104759\n",
      "15:50:54\t760/4500\tSecondary Score: -0.03795497977397172\n",
      "15:54:57\t770/4500\tSecondary Score: -0.0357761393678451\n",
      "15:59:35\t780/4500\tSecondary Score: -0.04022553431394153\n",
      "16:04:54\t790/4500\tSecondary Score: -0.037245695687416314\n",
      "16:11:16\t800/4500\tSecondary Score: -0.032262172547803426\n",
      "16:11:35\t810/4500\tSecondary Score: -0.024584533671911307\n",
      "16:12:34\t820/4500\tSecondary Score: -0.024508866872750404\n",
      "16:14:13\t830/4500\tSecondary Score: -0.02431177909386311\n",
      "16:16:22\t840/4500\tSecondary Score: -0.023768076612835858\n",
      "16:19:12\t850/4500\tSecondary Score: -0.02395940320774317\n",
      "16:22:47\t860/4500\tSecondary Score: -0.023810667171798104\n",
      "16:27:09\t870/4500\tSecondary Score: -0.025467464245499616\n",
      "16:32:19\t880/4500\tSecondary Score: -0.026744048450343394\n",
      "16:38:08\t890/4500\tSecondary Score: -0.027361989777011694\n",
      "16:44:08\t900/4500\tSecondary Score: -0.02753811174256791\n",
      "16:44:25\t910/4500\tSecondary Score: -0.027817308480505322\n",
      "16:45:18\t920/4500\tSecondary Score: -0.0244022398278183\n",
      "16:46:48\t930/4500\tSecondary Score: -0.02226036846256897\n",
      "16:48:55\t940/4500\tSecondary Score: -0.020447376557900673\n",
      "16:51:40\t950/4500\tSecondary Score: -0.020512543162528492\n",
      "16:55:05\t960/4500\tSecondary Score: -0.019694798774117443\n",
      "16:59:18\t970/4500\tSecondary Score: -0.0185923882541004\n",
      "17:04:11\t980/4500\tSecondary Score: -0.019016743116003647\n",
      "17:09:49\t990/4500\tSecondary Score: -0.018483170714180822\n",
      "17:16:05\t1000/4500\tSecondary Score: -0.01854838040013245\n",
      "17:16:22\t1010/4500\tSecondary Score: -0.01872051171822672\n",
      "17:17:16\t1020/4500\tSecondary Score: -0.01946401829389594\n",
      "17:18:47\t1030/4500\tSecondary Score: -0.018466729727813908\n",
      "17:20:55\t1040/4500\tSecondary Score: -0.01872177315578946\n",
      "17:23:42\t1050/4500\tSecondary Score: -0.017377176649739954\n",
      "17:27:08\t1060/4500\tSecondary Score: -0.017016179244929677\n",
      "17:31:13\t1070/4500\tSecondary Score: -0.01641805765009761\n",
      "17:35:57\t1080/4500\tSecondary Score: -0.01619806199130102\n",
      "17:41:24\t1090/4500\tSecondary Score: -0.01594565787795313\n",
      "17:47:33\t1100/4500\tSecondary Score: -0.015874612087945862\n",
      "17:47:50\t1110/4500\tSecondary Score: -0.015395997029276002\n",
      "17:48:45\t1120/4500\tSecondary Score: -0.015732456252410803\n",
      "17:50:19\t1130/4500\tSecondary Score: -0.015524742373659391\n",
      "17:52:31\t1140/4500\tSecondary Score: -0.01551603788536014\n",
      "17:55:21\t1150/4500\tSecondary Score: -0.015921666540285307\n",
      "17:58:45\t1160/4500\tSecondary Score: -0.015367839462991846\n",
      "18:02:48\t1170/4500\tSecondary Score: -0.015228865365327622\n",
      "18:07:31\t1180/4500\tSecondary Score: -0.015046837537038605\n",
      "18:12:55\t1190/4500\tSecondary Score: -0.015563071239823596\n",
      "18:18:56\t1200/4500\tSecondary Score: -0.0147426383668098\n",
      "18:19:13\t1210/4500\tSecondary Score: -0.014461795507840651\n",
      "18:20:06\t1220/4500\tSecondary Score: -0.014904520598293978\n",
      "18:21:36\t1230/4500\tSecondary Score: -0.014390433915192067\n",
      "18:23:44\t1240/4500\tSecondary Score: -0.014730276543997112\n",
      "18:26:31\t1250/4500\tSecondary Score: -0.014730954685211193\n",
      "18:29:55\t1260/4500\tSecondary Score: -0.014485592486284123\n",
      "18:34:00\t1270/4500\tSecondary Score: -0.01443594940759188\n",
      "18:38:44\t1280/4500\tSecondary Score: -0.014371624212658064\n",
      "18:44:12\t1290/4500\tSecondary Score: -0.01417225328808005\n",
      "18:50:15\t1300/4500\tSecondary Score: -0.014009159783987441\n",
      "18:50:32\t1310/4500\tSecondary Score: -0.013967243536790798\n",
      "18:51:26\t1320/4500\tSecondary Score: -0.014705956645921815\n",
      "18:52:56\t1330/4500\tSecondary Score: -0.013879795424803372\n",
      "18:55:03\t1340/4500\tSecondary Score: -0.015672405469141663\n",
      "18:57:49\t1350/4500\tSecondary Score: -0.015272540695233441\n",
      "19:01:14\t1360/4500\tSecondary Score: -0.015653800590365547\n",
      "19:05:18\t1370/4500\tSecondary Score: -0.015756497107951416\n",
      "19:10:15\t1380/4500\tSecondary Score: -0.01459471867806119\n",
      "19:15:37\t1390/4500\tSecondary Score: -0.015167025117876137\n",
      "19:21:39\t1400/4500\tSecondary Score: -0.015698548902018966\n",
      "19:21:56\t1410/4500\tSecondary Score: -0.015550799884069788\n",
      "19:22:50\t1420/4500\tSecondary Score: -0.016815241288837067\n",
      "19:24:20\t1430/4500\tSecondary Score: -0.015620164829655074\n",
      "19:26:28\t1440/4500\tSecondary Score: -0.016020262362300492\n",
      "19:29:14\t1450/4500\tSecondary Score: -0.015518316346487355\n",
      "19:32:47\t1460/4500\tSecondary Score: -0.014515991893367485\n",
      "19:37:29\t1470/4500\tSecondary Score: -0.014346853921038037\n",
      "19:42:43\t1480/4500\tSecondary Score: -0.014332945242471615\n",
      "19:48:11\t1490/4500\tSecondary Score: -0.01434529531165536\n",
      "19:54:16\t1500/4500\tSecondary Score: -0.014491910281043121\n",
      "19:54:23\t1510/4500\tSecondary Score: -0.014314143133090231\n",
      "19:54:44\t1520/4500\tSecondary Score: -0.014500037199390657\n",
      "19:55:19\t1530/4500\tSecondary Score: -0.014799682741941149\n",
      "19:56:08\t1540/4500\tSecondary Score: -0.01364457897024372\n",
      "19:57:10\t1550/4500\tSecondary Score: -0.013095714863241691\n",
      "19:58:27\t1560/4500\tSecondary Score: -0.013057316410656711\n",
      "19:59:57\t1570/4500\tSecondary Score: -0.012847689965816013\n",
      "20:01:43\t1580/4500\tSecondary Score: -0.013034392211157743\n",
      "20:03:42\t1590/4500\tSecondary Score: -0.013163134649690681\n",
      "20:06:02\t1600/4500\tSecondary Score: -0.013460804975335148\n",
      "20:06:12\t1610/4500\tSecondary Score: -0.012424714494989868\n",
      "20:06:46\t1620/4500\tSecondary Score: -0.0124027843728307\n",
      "20:07:42\t1630/4500\tSecondary Score: -0.012672999450193156\n",
      "20:09:01\t1640/4500\tSecondary Score: -0.012940629573625156\n",
      "20:10:42\t1650/4500\tSecondary Score: -0.013199326855287144\n",
      "20:12:46\t1660/4500\tSecondary Score: -0.01305652463021902\n",
      "20:15:09\t1670/4500\tSecondary Score: -0.012947426788055636\n",
      "20:17:59\t1680/4500\tSecondary Score: -0.012886009092903534\n",
      "20:20:58\t1690/4500\tSecondary Score: -0.01248887399336597\n",
      "20:24:17\t1700/4500\tSecondary Score: -0.01276385490648379\n",
      "20:24:30\t1710/4500\tSecondary Score: -0.012684712248622831\n",
      "20:25:10\t1720/4500\tSecondary Score: -0.012441154381704126\n",
      "20:26:18\t1730/4500\tSecondary Score: -0.012160231621009553\n",
      "20:27:54\t1740/4500\tSecondary Score: -0.012433353098019077\n",
      "20:29:57\t1750/4500\tSecondary Score: -0.012194150045939857\n",
      "20:32:27\t1760/4500\tSecondary Score: -0.012295003985698988\n",
      "20:35:23\t1770/4500\tSecondary Score: -0.012123500326971532\n",
      "20:38:43\t1780/4500\tSecondary Score: -0.012175497449079142\n",
      "20:42:28\t1790/4500\tSecondary Score: -0.012489178349890506\n",
      "20:46:32\t1800/4500\tSecondary Score: -0.01264396912329823\n",
      "20:46:46\t1810/4500\tSecondary Score: -0.012423770708521964\n",
      "20:47:33\t1820/4500\tSecondary Score: -0.01255843194555489\n",
      "20:48:51\t1830/4500\tSecondary Score: -0.012478932458997352\n",
      "20:50:41\t1840/4500\tSecondary Score: -0.012446775298563282\n",
      "20:53:02\t1850/4500\tSecondary Score: -0.012830853812889724\n",
      "20:55:52\t1860/4500\tSecondary Score: -0.012522176269041856\n",
      "20:59:09\t1870/4500\tSecondary Score: -0.012689301877172203\n",
      "21:02:50\t1880/4500\tSecondary Score: -0.012685647015489996\n",
      "21:06:55\t1890/4500\tSecondary Score: -0.012772284193772429\n",
      "21:11:36\t1900/4500\tSecondary Score: -0.012867121953895132\n",
      "21:11:53\t1910/4500\tSecondary Score: -0.01208236180521196\n",
      "21:12:46\t1920/4500\tSecondary Score: -0.011988337549250487\n",
      "21:14:14\t1930/4500\tSecondary Score: -0.012488813754754392\n",
      "21:16:19\t1940/4500\tSecondary Score: -0.012877226443314228\n",
      "21:18:58\t1950/4500\tSecondary Score: -0.012990827926070841\n",
      "21:22:05\t1960/4500\tSecondary Score: -0.012701491959099944\n",
      "21:25:39\t1970/4500\tSecondary Score: -0.01264992324404218\n",
      "21:29:46\t1980/4500\tSecondary Score: -0.012545275237755378\n",
      "21:34:20\t1990/4500\tSecondary Score: -0.012773765546931222\n",
      "21:39:03\t2000/4500\tSecondary Score: -0.012762193825884144\n",
      "21:39:20\t2010/4500\tSecondary Score: -0.012097817521766063\n",
      "21:40:18\t2020/4500\tSecondary Score: -0.012210850494632188\n",
      "21:41:54\t2030/4500\tSecondary Score: -0.012005680641270458\n",
      "21:44:00\t2040/4500\tSecondary Score: -0.012769515625147975\n",
      "21:46:49\t2050/4500\tSecondary Score: -0.013055295532438269\n",
      "21:50:00\t2060/4500\tSecondary Score: -0.013157732787557642\n",
      "21:53:49\t2070/4500\tSecondary Score: -0.013210428844335861\n",
      "21:58:14\t2080/4500\tSecondary Score: -0.013164514422483137\n",
      "22:03:25\t2090/4500\tSecondary Score: -0.013201335075865277\n",
      "22:09:03\t2100/4500\tSecondary Score: -0.012983398431082937\n",
      "22:09:24\t2110/4500\tSecondary Score: -0.012605274103280485\n",
      "22:10:29\t2120/4500\tSecondary Score: -0.012908503735997754\n",
      "22:12:15\t2130/4500\tSecondary Score: -0.01284422163688513\n",
      "22:14:45\t2140/4500\tSecondary Score: -0.01326522344530848\n",
      "22:17:54\t2150/4500\tSecondary Score: -0.013027974147044496\n",
      "22:21:40\t2160/4500\tSecondary Score: -0.012488105611428737\n",
      "22:25:58\t2170/4500\tSecondary Score: -0.012408886076349428\n",
      "22:30:47\t2180/4500\tSecondary Score: -0.012559890001160307\n",
      "22:36:00\t2190/4500\tSecondary Score: -0.012630886669296518\n",
      "22:41:44\t2200/4500\tSecondary Score: -0.012620547461729595\n",
      "22:42:04\t2210/4500\tSecondary Score: -0.013136704713448176\n",
      "22:43:08\t2220/4500\tSecondary Score: -0.013178873793203165\n",
      "22:44:59\t2230/4500\tSecondary Score: -0.013127329370203392\n",
      "22:47:27\t2240/4500\tSecondary Score: -0.013255463545875895\n",
      "22:50:31\t2250/4500\tSecondary Score: -0.013224878618298717\n",
      "22:54:16\t2260/4500\tSecondary Score: -0.013151662241377496\n",
      "22:58:32\t2270/4500\tSecondary Score: -0.013026695763905725\n",
      "23:03:26\t2280/4500\tSecondary Score: -0.013016776674854041\n",
      "23:08:46\t2290/4500\tSecondary Score: -0.012910186012789662\n",
      "23:14:30\t2300/4500\tSecondary Score: -0.012818886133433141\n",
      "23:14:50\t2310/4500\tSecondary Score: -0.013018494980032637\n",
      "23:15:58\t2320/4500\tSecondary Score: -0.013361087480465932\n",
      "23:17:56\t2330/4500\tSecondary Score: -0.013327826293107848\n",
      "23:20:38\t2340/4500\tSecondary Score: -0.014327743003451961\n",
      "23:23:52\t2350/4500\tSecondary Score: -0.013972506337867199\n",
      "23:27:47\t2360/4500\tSecondary Score: -0.012997057155466469\n",
      "23:32:17\t2370/4500\tSecondary Score: -0.012606952219339482\n",
      "23:36:59\t2380/4500\tSecondary Score: -0.012798289656856879\n",
      "23:41:43\t2390/4500\tSecondary Score: -0.01266949940563427\n",
      "23:46:45\t2400/4500\tSecondary Score: -0.012606558737979423\n",
      "23:47:03\t2410/4500\tSecondary Score: -0.012663641327866522\n",
      "23:48:00\t2420/4500\tSecondary Score: -0.012807411718816872\n",
      "23:49:37\t2430/4500\tSecondary Score: -0.01294636954922522\n",
      "23:51:52\t2440/4500\tSecondary Score: -0.013336890856807324\n",
      "23:54:42\t2450/4500\tSecondary Score: -0.012730376971328592\n",
      "23:58:12\t2460/4500\tSecondary Score: -0.012669395841978546\n",
      "00:02:08\t2470/4500\tSecondary Score: -0.012593941793037206\n",
      "00:06:54\t2480/4500\tSecondary Score: -0.012582633441341098\n",
      "00:12:08\t2490/4500\tSecondary Score: -0.012556943771593665\n",
      "00:17:43\t2500/4500\tSecondary Score: -0.012582075168913694\n"
     ]
    },
    {
     "ename": "KeyboardInterrupt",
     "evalue": "",
     "output_type": "error",
     "traceback": [
      "\u001b[0;31m---------------------------------------------------------------------------\u001b[0m",
      "\u001b[0;31mKeyboardInterrupt\u001b[0m                         Traceback (most recent call last)",
      "\u001b[0;32m<ipython-input-428-62e8fd996346>\u001b[0m in \u001b[0;36m<module>\u001b[0;34m\u001b[0m\n\u001b[1;32m      3\u001b[0m \u001b[0mmlt\u001b[0m \u001b[0;34m=\u001b[0m \u001b[0mMLTuner\u001b[0m\u001b[0;34m(\u001b[0m\u001b[0;34m)\u001b[0m\u001b[0;34m\u001b[0m\u001b[0;34m\u001b[0m\u001b[0m\n\u001b[1;32m      4\u001b[0m \u001b[0mmlt\u001b[0m\u001b[0;34m.\u001b[0m\u001b[0mfit\u001b[0m\u001b[0;34m(\u001b[0m\u001b[0mxgbc\u001b[0m\u001b[0;34m,\u001b[0m \u001b[0mxgbr\u001b[0m\u001b[0;34m,\u001b[0m \u001b[0mX_train_std\u001b[0m\u001b[0;34m,\u001b[0m \u001b[0my_train\u001b[0m\u001b[0;34m)\u001b[0m\u001b[0;34m\u001b[0m\u001b[0;34m\u001b[0m\u001b[0m\n\u001b[0;32m----> 5\u001b[0;31m \u001b[0mmlt\u001b[0m\u001b[0;34m.\u001b[0m\u001b[0msearch\u001b[0m\u001b[0;34m(\u001b[0m\u001b[0msearching_space\u001b[0m\u001b[0;34m,\u001b[0m \u001b[0;36m2\u001b[0m\u001b[0;34m,\u001b[0m \u001b[0;36m1\u001b[0m\u001b[0;34m,\u001b[0m \u001b[0;36m10\u001b[0m\u001b[0;34m,\u001b[0m \u001b[0;34m-\u001b[0m\u001b[0;36m0.0001\u001b[0m\u001b[0;34m)\u001b[0m\u001b[0;34m\u001b[0m\u001b[0;34m\u001b[0m\u001b[0m\n\u001b[0m",
      "\u001b[0;32m<ipython-input-426-81f970f05d16>\u001b[0m in \u001b[0;36msearch\u001b[0;34m(self, searching_space, cv, min_sampling_size, min_checking_freq, secondary_scoring_threshold)\u001b[0m\n\u001b[1;32m     38\u001b[0m         \u001b[0;32mfor\u001b[0m \u001b[0mp\u001b[0m \u001b[0;32min\u001b[0m \u001b[0mself\u001b[0m\u001b[0;34m.\u001b[0m\u001b[0mcombinations_generator\u001b[0m\u001b[0;34m(\u001b[0m\u001b[0mself\u001b[0m\u001b[0;34m.\u001b[0m\u001b[0msearching_space\u001b[0m\u001b[0;34m)\u001b[0m\u001b[0;34m:\u001b[0m\u001b[0;34m\u001b[0m\u001b[0;34m\u001b[0m\u001b[0m\n\u001b[1;32m     39\u001b[0m             \u001b[0mestimator\u001b[0m \u001b[0;34m=\u001b[0m \u001b[0mGridSearchCV\u001b[0m\u001b[0;34m(\u001b[0m\u001b[0mself\u001b[0m\u001b[0;34m.\u001b[0m\u001b[0mprimary_estimator\u001b[0m\u001b[0;34m,\u001b[0m \u001b[0mp\u001b[0m\u001b[0;34m,\u001b[0m \u001b[0mverbose\u001b[0m\u001b[0;34m=\u001b[0m\u001b[0;36m0\u001b[0m\u001b[0;34m)\u001b[0m\u001b[0;34m\u001b[0m\u001b[0;34m\u001b[0m\u001b[0m\n\u001b[0;32m---> 40\u001b[0;31m             \u001b[0mestimator\u001b[0m\u001b[0;34m.\u001b[0m\u001b[0mfit\u001b[0m\u001b[0;34m(\u001b[0m\u001b[0mself\u001b[0m\u001b[0;34m.\u001b[0m\u001b[0mX\u001b[0m\u001b[0;34m,\u001b[0m \u001b[0mself\u001b[0m\u001b[0;34m.\u001b[0m\u001b[0my\u001b[0m\u001b[0;34m)\u001b[0m\u001b[0;34m\u001b[0m\u001b[0;34m\u001b[0m\u001b[0m\n\u001b[0m\u001b[1;32m     41\u001b[0m             \u001b[0msample\u001b[0m \u001b[0;34m=\u001b[0m \u001b[0mpd\u001b[0m\u001b[0;34m.\u001b[0m\u001b[0mDataFrame\u001b[0m\u001b[0;34m(\u001b[0m\u001b[0;34m[\u001b[0m\u001b[0mv\u001b[0m\u001b[0;34m[\u001b[0m\u001b[0;36m0\u001b[0m\u001b[0;34m]\u001b[0m \u001b[0;32mfor\u001b[0m \u001b[0mv\u001b[0m \u001b[0;32min\u001b[0m \u001b[0mp\u001b[0m\u001b[0;34m.\u001b[0m\u001b[0mvalues\u001b[0m\u001b[0;34m(\u001b[0m\u001b[0;34m)\u001b[0m\u001b[0;34m]\u001b[0m \u001b[0;34m+\u001b[0m \u001b[0;34m[\u001b[0m\u001b[0mestimator\u001b[0m\u001b[0;34m.\u001b[0m\u001b[0mbest_score_\u001b[0m\u001b[0;34m]\u001b[0m\u001b[0;34m,\u001b[0m \u001b[0mindex\u001b[0m\u001b[0;34m=\u001b[0m\u001b[0;34m[\u001b[0m\u001b[0mk\u001b[0m \u001b[0;32mfor\u001b[0m \u001b[0mk\u001b[0m \u001b[0;32min\u001b[0m \u001b[0mp\u001b[0m\u001b[0;34m.\u001b[0m\u001b[0mkeys\u001b[0m\u001b[0;34m(\u001b[0m\u001b[0;34m)\u001b[0m\u001b[0;34m]\u001b[0m \u001b[0;34m+\u001b[0m \u001b[0;34m[\u001b[0m\u001b[0;34m\"score\"\u001b[0m\u001b[0;34m]\u001b[0m\u001b[0;34m)\u001b[0m\u001b[0;34m.\u001b[0m\u001b[0mT\u001b[0m\u001b[0;34m\u001b[0m\u001b[0;34m\u001b[0m\u001b[0m\n\u001b[1;32m     42\u001b[0m             \u001b[0mhp_samples\u001b[0m \u001b[0;34m=\u001b[0m \u001b[0mhp_samples\u001b[0m\u001b[0;34m.\u001b[0m\u001b[0mappend\u001b[0m\u001b[0;34m(\u001b[0m\u001b[0msample\u001b[0m\u001b[0;34m)\u001b[0m\u001b[0;34m\u001b[0m\u001b[0;34m\u001b[0m\u001b[0m\n",
      "\u001b[0;32m~/opt/anaconda3/lib/python3.8/site-packages/sklearn/utils/validation.py\u001b[0m in \u001b[0;36minner_f\u001b[0;34m(*args, **kwargs)\u001b[0m\n\u001b[1;32m     61\u001b[0m             \u001b[0mextra_args\u001b[0m \u001b[0;34m=\u001b[0m \u001b[0mlen\u001b[0m\u001b[0;34m(\u001b[0m\u001b[0margs\u001b[0m\u001b[0;34m)\u001b[0m \u001b[0;34m-\u001b[0m \u001b[0mlen\u001b[0m\u001b[0;34m(\u001b[0m\u001b[0mall_args\u001b[0m\u001b[0;34m)\u001b[0m\u001b[0;34m\u001b[0m\u001b[0;34m\u001b[0m\u001b[0m\n\u001b[1;32m     62\u001b[0m             \u001b[0;32mif\u001b[0m \u001b[0mextra_args\u001b[0m \u001b[0;34m<=\u001b[0m \u001b[0;36m0\u001b[0m\u001b[0;34m:\u001b[0m\u001b[0;34m\u001b[0m\u001b[0;34m\u001b[0m\u001b[0m\n\u001b[0;32m---> 63\u001b[0;31m                 \u001b[0;32mreturn\u001b[0m \u001b[0mf\u001b[0m\u001b[0;34m(\u001b[0m\u001b[0;34m*\u001b[0m\u001b[0margs\u001b[0m\u001b[0;34m,\u001b[0m \u001b[0;34m**\u001b[0m\u001b[0mkwargs\u001b[0m\u001b[0;34m)\u001b[0m\u001b[0;34m\u001b[0m\u001b[0;34m\u001b[0m\u001b[0m\n\u001b[0m\u001b[1;32m     64\u001b[0m \u001b[0;34m\u001b[0m\u001b[0m\n\u001b[1;32m     65\u001b[0m             \u001b[0;31m# extra_args > 0\u001b[0m\u001b[0;34m\u001b[0m\u001b[0;34m\u001b[0m\u001b[0;34m\u001b[0m\u001b[0m\n",
      "\u001b[0;32m~/opt/anaconda3/lib/python3.8/site-packages/sklearn/model_selection/_search.py\u001b[0m in \u001b[0;36mfit\u001b[0;34m(self, X, y, groups, **fit_params)\u001b[0m\n\u001b[1;32m    839\u001b[0m                 \u001b[0;32mreturn\u001b[0m \u001b[0mresults\u001b[0m\u001b[0;34m\u001b[0m\u001b[0;34m\u001b[0m\u001b[0m\n\u001b[1;32m    840\u001b[0m \u001b[0;34m\u001b[0m\u001b[0m\n\u001b[0;32m--> 841\u001b[0;31m             \u001b[0mself\u001b[0m\u001b[0;34m.\u001b[0m\u001b[0m_run_search\u001b[0m\u001b[0;34m(\u001b[0m\u001b[0mevaluate_candidates\u001b[0m\u001b[0;34m)\u001b[0m\u001b[0;34m\u001b[0m\u001b[0;34m\u001b[0m\u001b[0m\n\u001b[0m\u001b[1;32m    842\u001b[0m \u001b[0;34m\u001b[0m\u001b[0m\n\u001b[1;32m    843\u001b[0m             \u001b[0;31m# multimetric is determined here because in the case of a callable\u001b[0m\u001b[0;34m\u001b[0m\u001b[0;34m\u001b[0m\u001b[0;34m\u001b[0m\u001b[0m\n",
      "\u001b[0;32m~/opt/anaconda3/lib/python3.8/site-packages/sklearn/model_selection/_search.py\u001b[0m in \u001b[0;36m_run_search\u001b[0;34m(self, evaluate_candidates)\u001b[0m\n\u001b[1;32m   1286\u001b[0m     \u001b[0;32mdef\u001b[0m \u001b[0m_run_search\u001b[0m\u001b[0;34m(\u001b[0m\u001b[0mself\u001b[0m\u001b[0;34m,\u001b[0m \u001b[0mevaluate_candidates\u001b[0m\u001b[0;34m)\u001b[0m\u001b[0;34m:\u001b[0m\u001b[0;34m\u001b[0m\u001b[0;34m\u001b[0m\u001b[0m\n\u001b[1;32m   1287\u001b[0m         \u001b[0;34m\"\"\"Search all candidates in param_grid\"\"\"\u001b[0m\u001b[0;34m\u001b[0m\u001b[0;34m\u001b[0m\u001b[0m\n\u001b[0;32m-> 1288\u001b[0;31m         \u001b[0mevaluate_candidates\u001b[0m\u001b[0;34m(\u001b[0m\u001b[0mParameterGrid\u001b[0m\u001b[0;34m(\u001b[0m\u001b[0mself\u001b[0m\u001b[0;34m.\u001b[0m\u001b[0mparam_grid\u001b[0m\u001b[0;34m)\u001b[0m\u001b[0;34m)\u001b[0m\u001b[0;34m\u001b[0m\u001b[0;34m\u001b[0m\u001b[0m\n\u001b[0m\u001b[1;32m   1289\u001b[0m \u001b[0;34m\u001b[0m\u001b[0m\n\u001b[1;32m   1290\u001b[0m \u001b[0;34m\u001b[0m\u001b[0m\n",
      "\u001b[0;32m~/opt/anaconda3/lib/python3.8/site-packages/sklearn/model_selection/_search.py\u001b[0m in \u001b[0;36mevaluate_candidates\u001b[0;34m(candidate_params, cv, more_results)\u001b[0m\n\u001b[1;32m    793\u001b[0m                               n_splits, n_candidates, n_candidates * n_splits))\n\u001b[1;32m    794\u001b[0m \u001b[0;34m\u001b[0m\u001b[0m\n\u001b[0;32m--> 795\u001b[0;31m                 out = parallel(delayed(_fit_and_score)(clone(base_estimator),\n\u001b[0m\u001b[1;32m    796\u001b[0m                                                        \u001b[0mX\u001b[0m\u001b[0;34m,\u001b[0m \u001b[0my\u001b[0m\u001b[0;34m,\u001b[0m\u001b[0;34m\u001b[0m\u001b[0;34m\u001b[0m\u001b[0m\n\u001b[1;32m    797\u001b[0m                                                        \u001b[0mtrain\u001b[0m\u001b[0;34m=\u001b[0m\u001b[0mtrain\u001b[0m\u001b[0;34m,\u001b[0m \u001b[0mtest\u001b[0m\u001b[0;34m=\u001b[0m\u001b[0mtest\u001b[0m\u001b[0;34m,\u001b[0m\u001b[0;34m\u001b[0m\u001b[0;34m\u001b[0m\u001b[0m\n",
      "\u001b[0;32m~/opt/anaconda3/lib/python3.8/site-packages/joblib/parallel.py\u001b[0m in \u001b[0;36m__call__\u001b[0;34m(self, iterable)\u001b[0m\n\u001b[1;32m   1042\u001b[0m                 \u001b[0mself\u001b[0m\u001b[0;34m.\u001b[0m\u001b[0m_iterating\u001b[0m \u001b[0;34m=\u001b[0m \u001b[0mself\u001b[0m\u001b[0;34m.\u001b[0m\u001b[0m_original_iterator\u001b[0m \u001b[0;32mis\u001b[0m \u001b[0;32mnot\u001b[0m \u001b[0;32mNone\u001b[0m\u001b[0;34m\u001b[0m\u001b[0;34m\u001b[0m\u001b[0m\n\u001b[1;32m   1043\u001b[0m \u001b[0;34m\u001b[0m\u001b[0m\n\u001b[0;32m-> 1044\u001b[0;31m             \u001b[0;32mwhile\u001b[0m \u001b[0mself\u001b[0m\u001b[0;34m.\u001b[0m\u001b[0mdispatch_one_batch\u001b[0m\u001b[0;34m(\u001b[0m\u001b[0miterator\u001b[0m\u001b[0;34m)\u001b[0m\u001b[0;34m:\u001b[0m\u001b[0;34m\u001b[0m\u001b[0;34m\u001b[0m\u001b[0m\n\u001b[0m\u001b[1;32m   1045\u001b[0m                 \u001b[0;32mpass\u001b[0m\u001b[0;34m\u001b[0m\u001b[0;34m\u001b[0m\u001b[0m\n\u001b[1;32m   1046\u001b[0m \u001b[0;34m\u001b[0m\u001b[0m\n",
      "\u001b[0;32m~/opt/anaconda3/lib/python3.8/site-packages/joblib/parallel.py\u001b[0m in \u001b[0;36mdispatch_one_batch\u001b[0;34m(self, iterator)\u001b[0m\n\u001b[1;32m    857\u001b[0m                 \u001b[0;32mreturn\u001b[0m \u001b[0;32mFalse\u001b[0m\u001b[0;34m\u001b[0m\u001b[0;34m\u001b[0m\u001b[0m\n\u001b[1;32m    858\u001b[0m             \u001b[0;32melse\u001b[0m\u001b[0;34m:\u001b[0m\u001b[0;34m\u001b[0m\u001b[0;34m\u001b[0m\u001b[0m\n\u001b[0;32m--> 859\u001b[0;31m                 \u001b[0mself\u001b[0m\u001b[0;34m.\u001b[0m\u001b[0m_dispatch\u001b[0m\u001b[0;34m(\u001b[0m\u001b[0mtasks\u001b[0m\u001b[0;34m)\u001b[0m\u001b[0;34m\u001b[0m\u001b[0;34m\u001b[0m\u001b[0m\n\u001b[0m\u001b[1;32m    860\u001b[0m                 \u001b[0;32mreturn\u001b[0m \u001b[0;32mTrue\u001b[0m\u001b[0;34m\u001b[0m\u001b[0;34m\u001b[0m\u001b[0m\n\u001b[1;32m    861\u001b[0m \u001b[0;34m\u001b[0m\u001b[0m\n",
      "\u001b[0;32m~/opt/anaconda3/lib/python3.8/site-packages/joblib/parallel.py\u001b[0m in \u001b[0;36m_dispatch\u001b[0;34m(self, batch)\u001b[0m\n\u001b[1;32m    775\u001b[0m         \u001b[0;32mwith\u001b[0m \u001b[0mself\u001b[0m\u001b[0;34m.\u001b[0m\u001b[0m_lock\u001b[0m\u001b[0;34m:\u001b[0m\u001b[0;34m\u001b[0m\u001b[0;34m\u001b[0m\u001b[0m\n\u001b[1;32m    776\u001b[0m             \u001b[0mjob_idx\u001b[0m \u001b[0;34m=\u001b[0m \u001b[0mlen\u001b[0m\u001b[0;34m(\u001b[0m\u001b[0mself\u001b[0m\u001b[0;34m.\u001b[0m\u001b[0m_jobs\u001b[0m\u001b[0;34m)\u001b[0m\u001b[0;34m\u001b[0m\u001b[0;34m\u001b[0m\u001b[0m\n\u001b[0;32m--> 777\u001b[0;31m             \u001b[0mjob\u001b[0m \u001b[0;34m=\u001b[0m \u001b[0mself\u001b[0m\u001b[0;34m.\u001b[0m\u001b[0m_backend\u001b[0m\u001b[0;34m.\u001b[0m\u001b[0mapply_async\u001b[0m\u001b[0;34m(\u001b[0m\u001b[0mbatch\u001b[0m\u001b[0;34m,\u001b[0m \u001b[0mcallback\u001b[0m\u001b[0;34m=\u001b[0m\u001b[0mcb\u001b[0m\u001b[0;34m)\u001b[0m\u001b[0;34m\u001b[0m\u001b[0;34m\u001b[0m\u001b[0m\n\u001b[0m\u001b[1;32m    778\u001b[0m             \u001b[0;31m# A job can complete so quickly than its callback is\u001b[0m\u001b[0;34m\u001b[0m\u001b[0;34m\u001b[0m\u001b[0;34m\u001b[0m\u001b[0m\n\u001b[1;32m    779\u001b[0m             \u001b[0;31m# called before we get here, causing self._jobs to\u001b[0m\u001b[0;34m\u001b[0m\u001b[0;34m\u001b[0m\u001b[0;34m\u001b[0m\u001b[0m\n",
      "\u001b[0;32m~/opt/anaconda3/lib/python3.8/site-packages/joblib/_parallel_backends.py\u001b[0m in \u001b[0;36mapply_async\u001b[0;34m(self, func, callback)\u001b[0m\n\u001b[1;32m    206\u001b[0m     \u001b[0;32mdef\u001b[0m \u001b[0mapply_async\u001b[0m\u001b[0;34m(\u001b[0m\u001b[0mself\u001b[0m\u001b[0;34m,\u001b[0m \u001b[0mfunc\u001b[0m\u001b[0;34m,\u001b[0m \u001b[0mcallback\u001b[0m\u001b[0;34m=\u001b[0m\u001b[0;32mNone\u001b[0m\u001b[0;34m)\u001b[0m\u001b[0;34m:\u001b[0m\u001b[0;34m\u001b[0m\u001b[0;34m\u001b[0m\u001b[0m\n\u001b[1;32m    207\u001b[0m         \u001b[0;34m\"\"\"Schedule a func to be run\"\"\"\u001b[0m\u001b[0;34m\u001b[0m\u001b[0;34m\u001b[0m\u001b[0m\n\u001b[0;32m--> 208\u001b[0;31m         \u001b[0mresult\u001b[0m \u001b[0;34m=\u001b[0m \u001b[0mImmediateResult\u001b[0m\u001b[0;34m(\u001b[0m\u001b[0mfunc\u001b[0m\u001b[0;34m)\u001b[0m\u001b[0;34m\u001b[0m\u001b[0;34m\u001b[0m\u001b[0m\n\u001b[0m\u001b[1;32m    209\u001b[0m         \u001b[0;32mif\u001b[0m \u001b[0mcallback\u001b[0m\u001b[0;34m:\u001b[0m\u001b[0;34m\u001b[0m\u001b[0;34m\u001b[0m\u001b[0m\n\u001b[1;32m    210\u001b[0m             \u001b[0mcallback\u001b[0m\u001b[0;34m(\u001b[0m\u001b[0mresult\u001b[0m\u001b[0;34m)\u001b[0m\u001b[0;34m\u001b[0m\u001b[0;34m\u001b[0m\u001b[0m\n",
      "\u001b[0;32m~/opt/anaconda3/lib/python3.8/site-packages/joblib/_parallel_backends.py\u001b[0m in \u001b[0;36m__init__\u001b[0;34m(self, batch)\u001b[0m\n\u001b[1;32m    570\u001b[0m         \u001b[0;31m# Don't delay the application, to avoid keeping the input\u001b[0m\u001b[0;34m\u001b[0m\u001b[0;34m\u001b[0m\u001b[0;34m\u001b[0m\u001b[0m\n\u001b[1;32m    571\u001b[0m         \u001b[0;31m# arguments in memory\u001b[0m\u001b[0;34m\u001b[0m\u001b[0;34m\u001b[0m\u001b[0;34m\u001b[0m\u001b[0m\n\u001b[0;32m--> 572\u001b[0;31m         \u001b[0mself\u001b[0m\u001b[0;34m.\u001b[0m\u001b[0mresults\u001b[0m \u001b[0;34m=\u001b[0m \u001b[0mbatch\u001b[0m\u001b[0;34m(\u001b[0m\u001b[0;34m)\u001b[0m\u001b[0;34m\u001b[0m\u001b[0;34m\u001b[0m\u001b[0m\n\u001b[0m\u001b[1;32m    573\u001b[0m \u001b[0;34m\u001b[0m\u001b[0m\n\u001b[1;32m    574\u001b[0m     \u001b[0;32mdef\u001b[0m \u001b[0mget\u001b[0m\u001b[0;34m(\u001b[0m\u001b[0mself\u001b[0m\u001b[0;34m)\u001b[0m\u001b[0;34m:\u001b[0m\u001b[0;34m\u001b[0m\u001b[0;34m\u001b[0m\u001b[0m\n",
      "\u001b[0;32m~/opt/anaconda3/lib/python3.8/site-packages/joblib/parallel.py\u001b[0m in \u001b[0;36m__call__\u001b[0;34m(self)\u001b[0m\n\u001b[1;32m    260\u001b[0m         \u001b[0;31m# change the default number of processes to -1\u001b[0m\u001b[0;34m\u001b[0m\u001b[0;34m\u001b[0m\u001b[0;34m\u001b[0m\u001b[0m\n\u001b[1;32m    261\u001b[0m         \u001b[0;32mwith\u001b[0m \u001b[0mparallel_backend\u001b[0m\u001b[0;34m(\u001b[0m\u001b[0mself\u001b[0m\u001b[0;34m.\u001b[0m\u001b[0m_backend\u001b[0m\u001b[0;34m,\u001b[0m \u001b[0mn_jobs\u001b[0m\u001b[0;34m=\u001b[0m\u001b[0mself\u001b[0m\u001b[0;34m.\u001b[0m\u001b[0m_n_jobs\u001b[0m\u001b[0;34m)\u001b[0m\u001b[0;34m:\u001b[0m\u001b[0;34m\u001b[0m\u001b[0;34m\u001b[0m\u001b[0m\n\u001b[0;32m--> 262\u001b[0;31m             return [func(*args, **kwargs)\n\u001b[0m\u001b[1;32m    263\u001b[0m                     for func, args, kwargs in self.items]\n\u001b[1;32m    264\u001b[0m \u001b[0;34m\u001b[0m\u001b[0m\n",
      "\u001b[0;32m~/opt/anaconda3/lib/python3.8/site-packages/joblib/parallel.py\u001b[0m in \u001b[0;36m<listcomp>\u001b[0;34m(.0)\u001b[0m\n\u001b[1;32m    260\u001b[0m         \u001b[0;31m# change the default number of processes to -1\u001b[0m\u001b[0;34m\u001b[0m\u001b[0;34m\u001b[0m\u001b[0;34m\u001b[0m\u001b[0m\n\u001b[1;32m    261\u001b[0m         \u001b[0;32mwith\u001b[0m \u001b[0mparallel_backend\u001b[0m\u001b[0;34m(\u001b[0m\u001b[0mself\u001b[0m\u001b[0;34m.\u001b[0m\u001b[0m_backend\u001b[0m\u001b[0;34m,\u001b[0m \u001b[0mn_jobs\u001b[0m\u001b[0;34m=\u001b[0m\u001b[0mself\u001b[0m\u001b[0;34m.\u001b[0m\u001b[0m_n_jobs\u001b[0m\u001b[0;34m)\u001b[0m\u001b[0;34m:\u001b[0m\u001b[0;34m\u001b[0m\u001b[0;34m\u001b[0m\u001b[0m\n\u001b[0;32m--> 262\u001b[0;31m             return [func(*args, **kwargs)\n\u001b[0m\u001b[1;32m    263\u001b[0m                     for func, args, kwargs in self.items]\n\u001b[1;32m    264\u001b[0m \u001b[0;34m\u001b[0m\u001b[0m\n",
      "\u001b[0;32m~/opt/anaconda3/lib/python3.8/site-packages/sklearn/utils/fixes.py\u001b[0m in \u001b[0;36m__call__\u001b[0;34m(self, *args, **kwargs)\u001b[0m\n\u001b[1;32m    220\u001b[0m     \u001b[0;32mdef\u001b[0m \u001b[0m__call__\u001b[0m\u001b[0;34m(\u001b[0m\u001b[0mself\u001b[0m\u001b[0;34m,\u001b[0m \u001b[0;34m*\u001b[0m\u001b[0margs\u001b[0m\u001b[0;34m,\u001b[0m \u001b[0;34m**\u001b[0m\u001b[0mkwargs\u001b[0m\u001b[0;34m)\u001b[0m\u001b[0;34m:\u001b[0m\u001b[0;34m\u001b[0m\u001b[0;34m\u001b[0m\u001b[0m\n\u001b[1;32m    221\u001b[0m         \u001b[0;32mwith\u001b[0m \u001b[0mconfig_context\u001b[0m\u001b[0;34m(\u001b[0m\u001b[0;34m**\u001b[0m\u001b[0mself\u001b[0m\u001b[0;34m.\u001b[0m\u001b[0mconfig\u001b[0m\u001b[0;34m)\u001b[0m\u001b[0;34m:\u001b[0m\u001b[0;34m\u001b[0m\u001b[0;34m\u001b[0m\u001b[0m\n\u001b[0;32m--> 222\u001b[0;31m             \u001b[0;32mreturn\u001b[0m \u001b[0mself\u001b[0m\u001b[0;34m.\u001b[0m\u001b[0mfunction\u001b[0m\u001b[0;34m(\u001b[0m\u001b[0;34m*\u001b[0m\u001b[0margs\u001b[0m\u001b[0;34m,\u001b[0m \u001b[0;34m**\u001b[0m\u001b[0mkwargs\u001b[0m\u001b[0;34m)\u001b[0m\u001b[0;34m\u001b[0m\u001b[0;34m\u001b[0m\u001b[0m\n\u001b[0m",
      "\u001b[0;32m~/opt/anaconda3/lib/python3.8/site-packages/sklearn/model_selection/_validation.py\u001b[0m in \u001b[0;36m_fit_and_score\u001b[0;34m(estimator, X, y, scorer, train, test, verbose, parameters, fit_params, return_train_score, return_parameters, return_n_test_samples, return_times, return_estimator, split_progress, candidate_progress, error_score)\u001b[0m\n\u001b[1;32m    591\u001b[0m             \u001b[0mestimator\u001b[0m\u001b[0;34m.\u001b[0m\u001b[0mfit\u001b[0m\u001b[0;34m(\u001b[0m\u001b[0mX_train\u001b[0m\u001b[0;34m,\u001b[0m \u001b[0;34m**\u001b[0m\u001b[0mfit_params\u001b[0m\u001b[0;34m)\u001b[0m\u001b[0;34m\u001b[0m\u001b[0;34m\u001b[0m\u001b[0m\n\u001b[1;32m    592\u001b[0m         \u001b[0;32melse\u001b[0m\u001b[0;34m:\u001b[0m\u001b[0;34m\u001b[0m\u001b[0;34m\u001b[0m\u001b[0m\n\u001b[0;32m--> 593\u001b[0;31m             \u001b[0mestimator\u001b[0m\u001b[0;34m.\u001b[0m\u001b[0mfit\u001b[0m\u001b[0;34m(\u001b[0m\u001b[0mX_train\u001b[0m\u001b[0;34m,\u001b[0m \u001b[0my_train\u001b[0m\u001b[0;34m,\u001b[0m \u001b[0;34m**\u001b[0m\u001b[0mfit_params\u001b[0m\u001b[0;34m)\u001b[0m\u001b[0;34m\u001b[0m\u001b[0;34m\u001b[0m\u001b[0m\n\u001b[0m\u001b[1;32m    594\u001b[0m \u001b[0;34m\u001b[0m\u001b[0m\n\u001b[1;32m    595\u001b[0m     \u001b[0;32mexcept\u001b[0m \u001b[0mException\u001b[0m \u001b[0;32mas\u001b[0m \u001b[0me\u001b[0m\u001b[0;34m:\u001b[0m\u001b[0;34m\u001b[0m\u001b[0;34m\u001b[0m\u001b[0m\n",
      "\u001b[0;32m~/opt/anaconda3/lib/python3.8/site-packages/xgboost/core.py\u001b[0m in \u001b[0;36minner_f\u001b[0;34m(*args, **kwargs)\u001b[0m\n\u001b[1;32m    420\u001b[0m         \u001b[0;32mfor\u001b[0m \u001b[0mk\u001b[0m\u001b[0;34m,\u001b[0m \u001b[0marg\u001b[0m \u001b[0;32min\u001b[0m \u001b[0mzip\u001b[0m\u001b[0;34m(\u001b[0m\u001b[0msig\u001b[0m\u001b[0;34m.\u001b[0m\u001b[0mparameters\u001b[0m\u001b[0;34m,\u001b[0m \u001b[0margs\u001b[0m\u001b[0;34m)\u001b[0m\u001b[0;34m:\u001b[0m\u001b[0;34m\u001b[0m\u001b[0;34m\u001b[0m\u001b[0m\n\u001b[1;32m    421\u001b[0m             \u001b[0mkwargs\u001b[0m\u001b[0;34m[\u001b[0m\u001b[0mk\u001b[0m\u001b[0;34m]\u001b[0m \u001b[0;34m=\u001b[0m \u001b[0marg\u001b[0m\u001b[0;34m\u001b[0m\u001b[0;34m\u001b[0m\u001b[0m\n\u001b[0;32m--> 422\u001b[0;31m         \u001b[0;32mreturn\u001b[0m \u001b[0mf\u001b[0m\u001b[0;34m(\u001b[0m\u001b[0;34m**\u001b[0m\u001b[0mkwargs\u001b[0m\u001b[0;34m)\u001b[0m\u001b[0;34m\u001b[0m\u001b[0;34m\u001b[0m\u001b[0m\n\u001b[0m\u001b[1;32m    423\u001b[0m \u001b[0;34m\u001b[0m\u001b[0m\n\u001b[1;32m    424\u001b[0m     \u001b[0;32mreturn\u001b[0m \u001b[0minner_f\u001b[0m\u001b[0;34m\u001b[0m\u001b[0;34m\u001b[0m\u001b[0m\n",
      "\u001b[0;32m~/opt/anaconda3/lib/python3.8/site-packages/xgboost/sklearn.py\u001b[0m in \u001b[0;36mfit\u001b[0;34m(self, X, y, sample_weight, base_margin, eval_set, eval_metric, early_stopping_rounds, verbose, xgb_model, sample_weight_eval_set, feature_weights, callbacks)\u001b[0m\n\u001b[1;32m    907\u001b[0m             eval_group=None, label_transform=label_transform)\n\u001b[1;32m    908\u001b[0m \u001b[0;34m\u001b[0m\u001b[0m\n\u001b[0;32m--> 909\u001b[0;31m         self._Booster = train(xgb_options, train_dmatrix,\n\u001b[0m\u001b[1;32m    910\u001b[0m                               \u001b[0mself\u001b[0m\u001b[0;34m.\u001b[0m\u001b[0mget_num_boosting_rounds\u001b[0m\u001b[0;34m(\u001b[0m\u001b[0;34m)\u001b[0m\u001b[0;34m,\u001b[0m\u001b[0;34m\u001b[0m\u001b[0;34m\u001b[0m\u001b[0m\n\u001b[1;32m    911\u001b[0m                               \u001b[0mevals\u001b[0m\u001b[0;34m=\u001b[0m\u001b[0mevals\u001b[0m\u001b[0;34m,\u001b[0m\u001b[0;34m\u001b[0m\u001b[0;34m\u001b[0m\u001b[0m\n",
      "\u001b[0;32m~/opt/anaconda3/lib/python3.8/site-packages/xgboost/training.py\u001b[0m in \u001b[0;36mtrain\u001b[0;34m(params, dtrain, num_boost_round, evals, obj, feval, maximize, early_stopping_rounds, evals_result, verbose_eval, xgb_model, callbacks)\u001b[0m\n\u001b[1;32m    225\u001b[0m     \u001b[0mBooster\u001b[0m \u001b[0;34m:\u001b[0m \u001b[0ma\u001b[0m \u001b[0mtrained\u001b[0m \u001b[0mbooster\u001b[0m \u001b[0mmodel\u001b[0m\u001b[0;34m\u001b[0m\u001b[0;34m\u001b[0m\u001b[0m\n\u001b[1;32m    226\u001b[0m     \"\"\"\n\u001b[0;32m--> 227\u001b[0;31m     bst = _train_internal(params, dtrain,\n\u001b[0m\u001b[1;32m    228\u001b[0m                           \u001b[0mnum_boost_round\u001b[0m\u001b[0;34m=\u001b[0m\u001b[0mnum_boost_round\u001b[0m\u001b[0;34m,\u001b[0m\u001b[0;34m\u001b[0m\u001b[0;34m\u001b[0m\u001b[0m\n\u001b[1;32m    229\u001b[0m                           \u001b[0mevals\u001b[0m\u001b[0;34m=\u001b[0m\u001b[0mevals\u001b[0m\u001b[0;34m,\u001b[0m\u001b[0;34m\u001b[0m\u001b[0;34m\u001b[0m\u001b[0m\n",
      "\u001b[0;32m~/opt/anaconda3/lib/python3.8/site-packages/xgboost/training.py\u001b[0m in \u001b[0;36m_train_internal\u001b[0;34m(params, dtrain, num_boost_round, evals, obj, feval, xgb_model, callbacks, evals_result, maximize, verbose_eval, early_stopping_rounds)\u001b[0m\n\u001b[1;32m    100\u001b[0m         \u001b[0;31m# Skip the first update if it is a recovery step.\u001b[0m\u001b[0;34m\u001b[0m\u001b[0;34m\u001b[0m\u001b[0;34m\u001b[0m\u001b[0m\n\u001b[1;32m    101\u001b[0m         \u001b[0;32mif\u001b[0m \u001b[0mversion\u001b[0m \u001b[0;34m%\u001b[0m \u001b[0;36m2\u001b[0m \u001b[0;34m==\u001b[0m \u001b[0;36m0\u001b[0m\u001b[0;34m:\u001b[0m\u001b[0;34m\u001b[0m\u001b[0;34m\u001b[0m\u001b[0m\n\u001b[0;32m--> 102\u001b[0;31m             \u001b[0mbst\u001b[0m\u001b[0;34m.\u001b[0m\u001b[0mupdate\u001b[0m\u001b[0;34m(\u001b[0m\u001b[0mdtrain\u001b[0m\u001b[0;34m,\u001b[0m \u001b[0mi\u001b[0m\u001b[0;34m,\u001b[0m \u001b[0mobj\u001b[0m\u001b[0;34m)\u001b[0m\u001b[0;34m\u001b[0m\u001b[0;34m\u001b[0m\u001b[0m\n\u001b[0m\u001b[1;32m    103\u001b[0m             \u001b[0mbst\u001b[0m\u001b[0;34m.\u001b[0m\u001b[0msave_rabit_checkpoint\u001b[0m\u001b[0;34m(\u001b[0m\u001b[0;34m)\u001b[0m\u001b[0;34m\u001b[0m\u001b[0;34m\u001b[0m\u001b[0m\n\u001b[1;32m    104\u001b[0m             \u001b[0mversion\u001b[0m \u001b[0;34m+=\u001b[0m \u001b[0;36m1\u001b[0m\u001b[0;34m\u001b[0m\u001b[0;34m\u001b[0m\u001b[0m\n",
      "\u001b[0;32m~/opt/anaconda3/lib/python3.8/site-packages/xgboost/core.py\u001b[0m in \u001b[0;36mupdate\u001b[0;34m(self, dtrain, iteration, fobj)\u001b[0m\n\u001b[1;32m   1278\u001b[0m \u001b[0;34m\u001b[0m\u001b[0m\n\u001b[1;32m   1279\u001b[0m         \u001b[0;32mif\u001b[0m \u001b[0mfobj\u001b[0m \u001b[0;32mis\u001b[0m \u001b[0;32mNone\u001b[0m\u001b[0;34m:\u001b[0m\u001b[0;34m\u001b[0m\u001b[0;34m\u001b[0m\u001b[0m\n\u001b[0;32m-> 1280\u001b[0;31m             _check_call(_LIB.XGBoosterUpdateOneIter(self.handle,\n\u001b[0m\u001b[1;32m   1281\u001b[0m                                                     \u001b[0mctypes\u001b[0m\u001b[0;34m.\u001b[0m\u001b[0mc_int\u001b[0m\u001b[0;34m(\u001b[0m\u001b[0miteration\u001b[0m\u001b[0;34m)\u001b[0m\u001b[0;34m,\u001b[0m\u001b[0;34m\u001b[0m\u001b[0;34m\u001b[0m\u001b[0m\n\u001b[1;32m   1282\u001b[0m                                                     dtrain.handle))\n",
      "\u001b[0;31mKeyboardInterrupt\u001b[0m: "
     ]
    }
   ],
   "source": [
    "xgbc = XGBClassifier(use_label_encoder=False, verbosity=0)\n",
    "xgbr = XGBRegressor()\n",
    "mlt = MLTuner()\n",
    "mlt.fit(xgbc, xgbr, X_train_std, y_train)\n",
    "mlt.search(searching_space, 2, 1, 100, -0.0001)"
   ]
  },
  {
   "cell_type": "code",
   "execution_count": null,
   "id": "eab9afbc",
   "metadata": {},
   "outputs": [],
   "source": [
    "mlt."
   ]
  },
  {
   "cell_type": "code",
   "execution_count": 429,
   "id": "cf55d38d",
   "metadata": {},
   "outputs": [
    {
     "ename": "AttributeError",
     "evalue": "'MLTuner' object has no attribute 'hp_samples'",
     "output_type": "error",
     "traceback": [
      "\u001b[0;31m---------------------------------------------------------------------------\u001b[0m",
      "\u001b[0;31mAttributeError\u001b[0m                            Traceback (most recent call last)",
      "\u001b[0;32m<ipython-input-429-4c6d8c7088e1>\u001b[0m in \u001b[0;36m<module>\u001b[0;34m\u001b[0m\n\u001b[1;32m      1\u001b[0m \u001b[0mxgbr\u001b[0m \u001b[0;34m=\u001b[0m \u001b[0mXGBRegressor\u001b[0m\u001b[0;34m(\u001b[0m\u001b[0;34m)\u001b[0m\u001b[0;34m\u001b[0m\u001b[0;34m\u001b[0m\u001b[0m\n\u001b[0;32m----> 2\u001b[0;31m \u001b[0mxgbr\u001b[0m\u001b[0;34m.\u001b[0m\u001b[0mfit\u001b[0m\u001b[0;34m(\u001b[0m\u001b[0mmlt\u001b[0m\u001b[0;34m.\u001b[0m\u001b[0mhp_samples\u001b[0m\u001b[0;34m.\u001b[0m\u001b[0mdrop\u001b[0m\u001b[0;34m(\u001b[0m\u001b[0;34m'score'\u001b[0m\u001b[0;34m,\u001b[0m \u001b[0maxis\u001b[0m\u001b[0;34m=\u001b[0m\u001b[0;36m1\u001b[0m\u001b[0;34m)\u001b[0m\u001b[0;34m,\u001b[0m \u001b[0mmlt\u001b[0m\u001b[0;34m.\u001b[0m\u001b[0mhp_samples\u001b[0m\u001b[0;34m[\u001b[0m\u001b[0;34m'score'\u001b[0m\u001b[0;34m]\u001b[0m\u001b[0;34m)\u001b[0m\u001b[0;34m\u001b[0m\u001b[0;34m\u001b[0m\u001b[0m\n\u001b[0m",
      "\u001b[0;31mAttributeError\u001b[0m: 'MLTuner' object has no attribute 'hp_samples'"
     ]
    }
   ],
   "source": [
    "xgbr = XGBRegressor()\n",
    "xgbr.fit(mlt.hp_samples.drop('score', axis=1), mlt.hp_samples['score'])"
   ]
  },
  {
   "cell_type": "code",
   "execution_count": 352,
   "id": "2942dd10",
   "metadata": {},
   "outputs": [
    {
     "name": "stdout",
     "output_type": "stream",
     "text": [
      "CPU times: user 4.11 ms, sys: 5.65 ms, total: 9.76 ms\n",
      "Wall time: 7.49 ms\n"
     ]
    },
    {
     "data": {
      "text/plain": [
       "array([0.7082589], dtype=float32)"
      ]
     },
     "execution_count": 352,
     "metadata": {},
     "output_type": "execute_result"
    }
   ],
   "source": [
    "%%time\n",
    "xgbr.predict(pd.DataFrame([0.0001, 4, 113], index=['learning_rate', 'max_depth', 'n_estimators']).T)"
   ]
  },
  {
   "cell_type": "code",
   "execution_count": 358,
   "id": "5b1ed3b5",
   "metadata": {},
   "outputs": [
    {
     "name": "stdout",
     "output_type": "stream",
     "text": [
      "CPU times: user 5.29 s, sys: 4.26 s, total: 9.55 s\n",
      "Wall time: 1.85 s\n"
     ]
    },
    {
     "data": {
      "text/plain": [
       "0.6884057971014493"
      ]
     },
     "execution_count": 358,
     "metadata": {},
     "output_type": "execute_result"
    }
   ],
   "source": [
    "%%time\n",
    " cross_val_score(xgbc, X_train_std, y_train, cv=5).mean()"
   ]
  },
  {
   "cell_type": "code",
   "execution_count": 388,
   "id": "9f5cbd2c",
   "metadata": {},
   "outputs": [
    {
     "name": "stdout",
     "output_type": "stream",
     "text": [
      "0.001 1 1 [0.6184339]\n",
      "0.001 1 57 [0.62213355]\n",
      "0.001 1 168 [0.6312038]\n",
      "0.001 1 390 [0.6389774]\n",
      "0.001 2 57 [0.6912776]\n",
      "0.001 2 168 [0.6919182]\n",
      "0.001 2 279 [0.7027181]\n",
      "0.001 2 390 [0.7051462]\n",
      "0.001 3 57 [0.70643145]\n",
      "0.001 4 57 [0.7082589]\n",
      "0.001 6 279 [0.7082776]\n",
      "0.041775510204081635 2 168 [0.7119191]\n",
      "0.041775510204081635 2 279 [0.7144641]\n",
      "0.041775510204081635 2 390 [0.7147724]\n"
     ]
    }
   ],
   "source": [
    "res = pd.DataFrame(columns=['learning_rate', 'max_depth', 'n_estimators', 'acc'])\n",
    "best_acc = 0\n",
    "for i in np.linspace(0.001, 1):\n",
    "    for j in range(1, 17):\n",
    "        for k in np.arange(1, 500):\n",
    "            acc = xgbr.predict(pd.DataFrame([i, j, k], index=['learning_rate', 'max_depth', 'n_estimators']).T)\n",
    "            res = res.append(pd.DataFrame([i, k, k] + [acc], index=['learning_rate', 'max_depth', 'n_estimators', 'acc']).T)\n",
    "            if best_acc == 0:\n",
    "                best_acc = acc\n",
    "                print(i, j, k, acc)\n",
    "                \n",
    "            else:\n",
    "                if acc > best_acc:\n",
    "                    best_acc = acc\n",
    "                    \n",
    "                    print(i, j, k, acc)"
   ]
  },
  {
   "cell_type": "code",
   "execution_count": 417,
   "id": "e57758fc",
   "metadata": {},
   "outputs": [],
   "source": [
    "import matplotlib.pyplot as plt"
   ]
  },
  {
   "cell_type": "code",
   "execution_count": 418,
   "id": "49a4559f",
   "metadata": {},
   "outputs": [
    {
     "data": {
      "text/plain": [
       "[<matplotlib.lines.Line2D at 0x7f9a634906a0>]"
      ]
     },
     "execution_count": 418,
     "metadata": {},
     "output_type": "execute_result"
    },
    {
     "data": {
      "image/png": "[encoded data removed]",
      "text/plain": [
       "<Figure size 432x288 with 1 Axes>"
      ]
     },
     "metadata": {
      "needs_background": "light"
     },
     "output_type": "display_data"
    }
   ],
   "source": [
    "plt.plot([0.6184339, 0.62213355, 0.6312038, 0.6389774, 0.6912776, 0.6919182, 0.7027181, 0.7051462, 0.70643145, 0.7082589, 0.7082776, 0.7119191, 0.7144641, 0.7147724])"
   ]
  },
  {
   "cell_type": "code",
   "execution_count": 390,
   "id": "5de70433",
   "metadata": {},
   "outputs": [],
   "source": [
    "res['acc'] = res.acc.apply(lambda x: x[0])"
   ]
  },
  {
   "cell_type": "code",
   "execution_count": 415,
   "id": "2429d5fc",
   "metadata": {},
   "outputs": [
    {
     "data": {
      "text/html": [
       "<div>\n",
       "<style scoped>\n",
       "    .dataframe tbody tr th:only-of-type {\n",
       "        vertical-align: middle;\n",
       "    }\n",
       "\n",
       "    .dataframe tbody tr th {\n",
       "        vertical-align: top;\n",
       "    }\n",
       "\n",
       "    .dataframe thead th {\n",
       "        text-align: right;\n",
       "    }\n",
       "</style>\n",
       "<table border=\"1\" class=\"dataframe\">\n",
       "  <thead>\n",
       "    <tr style=\"text-align: right;\">\n",
       "      <th></th>\n",
       "      <th>learning_rate</th>\n",
       "      <th>max_depth</th>\n",
       "      <th>n_estimators</th>\n",
       "      <th>acc</th>\n",
       "    </tr>\n",
       "  </thead>\n",
       "  <tbody>\n",
       "    <tr>\n",
       "      <th>0</th>\n",
       "      <td>0.041776</td>\n",
       "      <td>423</td>\n",
       "      <td>423</td>\n",
       "      <td>0.714772</td>\n",
       "    </tr>\n",
       "    <tr>\n",
       "      <th>0</th>\n",
       "      <td>0.062163</td>\n",
       "      <td>394</td>\n",
       "      <td>394</td>\n",
       "      <td>0.714772</td>\n",
       "    </tr>\n",
       "    <tr>\n",
       "      <th>0</th>\n",
       "      <td>0.041776</td>\n",
       "      <td>421</td>\n",
       "      <td>421</td>\n",
       "      <td>0.714772</td>\n",
       "    </tr>\n",
       "    <tr>\n",
       "      <th>0</th>\n",
       "      <td>0.041776</td>\n",
       "      <td>420</td>\n",
       "      <td>420</td>\n",
       "      <td>0.714772</td>\n",
       "    </tr>\n",
       "    <tr>\n",
       "      <th>0</th>\n",
       "      <td>0.041776</td>\n",
       "      <td>419</td>\n",
       "      <td>419</td>\n",
       "      <td>0.714772</td>\n",
       "    </tr>\n",
       "    <tr>\n",
       "      <th>...</th>\n",
       "      <td>...</td>\n",
       "      <td>...</td>\n",
       "      <td>...</td>\n",
       "      <td>...</td>\n",
       "    </tr>\n",
       "    <tr>\n",
       "      <th>0</th>\n",
       "      <td>0.021388</td>\n",
       "      <td>34</td>\n",
       "      <td>34</td>\n",
       "      <td>0.606126</td>\n",
       "    </tr>\n",
       "    <tr>\n",
       "      <th>0</th>\n",
       "      <td>0.021388</td>\n",
       "      <td>33</td>\n",
       "      <td>33</td>\n",
       "      <td>0.606126</td>\n",
       "    </tr>\n",
       "    <tr>\n",
       "      <th>0</th>\n",
       "      <td>0.021388</td>\n",
       "      <td>32</td>\n",
       "      <td>32</td>\n",
       "      <td>0.606126</td>\n",
       "    </tr>\n",
       "    <tr>\n",
       "      <th>0</th>\n",
       "      <td>0.021388</td>\n",
       "      <td>31</td>\n",
       "      <td>31</td>\n",
       "      <td>0.606126</td>\n",
       "    </tr>\n",
       "    <tr>\n",
       "      <th>0</th>\n",
       "      <td>0.021388</td>\n",
       "      <td>5</td>\n",
       "      <td>5</td>\n",
       "      <td>0.606126</td>\n",
       "    </tr>\n",
       "  </tbody>\n",
       "</table>\n",
       "<p>399200 rows × 4 columns</p>\n",
       "</div>"
      ],
      "text/plain": [
       "   learning_rate max_depth n_estimators       acc\n",
       "0       0.041776       423          423  0.714772\n",
       "0       0.062163       394          394  0.714772\n",
       "0       0.041776       421          421  0.714772\n",
       "0       0.041776       420          420  0.714772\n",
       "0       0.041776       419          419  0.714772\n",
       "..           ...       ...          ...       ...\n",
       "0       0.021388        34           34  0.606126\n",
       "0       0.021388        33           33  0.606126\n",
       "0       0.021388        32           32  0.606126\n",
       "0       0.021388        31           31  0.606126\n",
       "0       0.021388         5            5  0.606126\n",
       "\n",
       "[399200 rows x 4 columns]"
      ]
     },
     "execution_count": 415,
     "metadata": {},
     "output_type": "execute_result"
    }
   ],
   "source": [
    "res.sort_values('acc', ascending=False)"
   ]
  },
  {
   "cell_type": "code",
   "execution_count": null,
   "id": "456c0cf8",
   "metadata": {},
   "outputs": [],
   "source": []
  },
  {
   "cell_type": "code",
   "execution_count": 404,
   "id": "d44ff3c1",
   "metadata": {},
   "outputs": [],
   "source": [
    "xgbc = XGBClassifier(learning_rate=0.041776, max_depth=423, n_estimators=423, use_label_encoder=False)"
   ]
  },
  {
   "cell_type": "code",
   "execution_count": 405,
   "id": "fabfc341",
   "metadata": {},
   "outputs": [
    {
     "data": {
      "text/plain": [
       "0.6884057971014492"
      ]
     },
     "execution_count": 405,
     "metadata": {},
     "output_type": "execute_result"
    }
   ],
   "source": [
    "cross_val_score(xgbc, X_train_std, y_train, cv=5).mean()"
   ]
  },
  {
   "cell_type": "code",
   "execution_count": 407,
   "id": "2d8a93fc",
   "metadata": {},
   "outputs": [],
   "source": [
    "xgbc = XGBClassifier(learning_rate=0.010, max_depth=4, n_estimators=112, use_label_encoder=False)"
   ]
  },
  {
   "cell_type": "code",
   "execution_count": 408,
   "id": "e6229a4e",
   "metadata": {},
   "outputs": [
    {
     "data": {
      "text/plain": [
       "0.7228260869565217"
      ]
     },
     "execution_count": 408,
     "metadata": {},
     "output_type": "execute_result"
    }
   ],
   "source": [
    "cross_val_score(xgbc, X_train_std, y_train, cv=5).mean()"
   ]
  },
  {
   "cell_type": "code",
   "execution_count": 409,
   "id": "9470c245",
   "metadata": {},
   "outputs": [
    {
     "data": {
      "text/plain": [
       "0.6884057971014493"
      ]
     },
     "execution_count": 409,
     "metadata": {},
     "output_type": "execute_result"
    }
   ],
   "source": [
    "xgbc = XGBClassifier(use_label_encoder=False)\n",
    "cross_val_score(xgbc, X_train_std, y_train, cv=5).mean()"
   ]
  },
  {
   "cell_type": "code",
   "execution_count": null,
   "id": "5be5bbaa",
   "metadata": {},
   "outputs": [],
   "source": []
  }
 ],
 "metadata": {
  "kernelspec": {
   "display_name": "Python 3",
   "language": "python",
   "name": "python3"
  },
  "language_info": {
   "codemirror_mode": {
    "name": "ipython",
    "version": 3
   },
   "file_extension": ".py",
   "mimetype": "text/x-python",
   "name": "python",
   "nbconvert_exporter": "python",
   "pygments_lexer": "ipython3",
   "version": "3.8.8"
  }
 },
 "nbformat": 4,
 "nbformat_minor": 5
}
